{
  "nbformat": 4,
  "nbformat_minor": 0,
  "metadata": {
    "colab": {
      "name": "assaignment8-jayadeepthi(1700235C203).ipynb",
      "provenance": [],
      "authorship_tag": "ABX9TyNEWZuwx/UskLBAugwT+DLY",
      "include_colab_link": true
    },
    "kernelspec": {
      "name": "python3",
      "display_name": "Python 3"
    }
  },
  "cells": [
    {
      "cell_type": "markdown",
      "metadata": {
        "id": "view-in-github",
        "colab_type": "text"
      },
      "source": [
        "<a href=\"https://colab.research.google.com/github/jaya-deepthi/deepthi_mllab10_1700235C203/blob/master/assaignment8_jayadeepthi(1700235C203).ipynb\" target=\"_parent\"><img src=\"https://colab.research.google.com/assets/colab-badge.svg\" alt=\"Open In Colab\"/></a>"
      ]
    },
    {
      "cell_type": "code",
      "metadata": {
        "id": "HujChEb3DbFA",
        "colab_type": "code",
        "colab": {
          "base_uri": "https://localhost:8080/",
          "height": 219
        },
        "outputId": "c1effab2-f372-4adc-d429-97a8d3c6cf0e"
      },
      "source": [
        "import numpy as np # linear algebra\n",
        "import pandas as pd # data processing, CSV file I/O (e.g. pd.read_csv)\n",
        "import seaborn as sns\n",
        "import matplotlib.pyplot as plt\n",
        "from sklearn.svm import SVC\n",
        "from sklearn.model_selection import train_test_split, GridSearchCV, RandomizedSearchCV\n",
        "from sklearn.preprocessing import StandardScaler\n",
        "%matplotlib inline\n",
        "\n",
        "# Import statements required for Plotly \n",
        "# Plotly is used to get details when hovered\n",
        "import plotly.offline as py\n",
        "py.init_notebook_mode(connected=True)\n",
        "import plotly.graph_objs as go\n",
        "import plotly.tools as tls\n",
        "\n",
        "\n",
        "from sklearn.ensemble import RandomForestClassifier, GradientBoostingClassifier\n",
        "from sklearn.linear_model import LogisticRegression\n",
        "from sklearn.metrics import (accuracy_score, log_loss, classification_report)\n",
        "from imblearn.over_sampling import SMOTE\n",
        "import xgboost\n",
        "\n",
        "# Import and suppress warnings\n",
        "import warnings\n",
        "warnings.filterwarnings('ignore')"
      ],
      "execution_count": 3,
      "outputs": [
        {
          "output_type": "stream",
          "text": [
            "/usr/local/lib/python3.6/dist-packages/statsmodels/tools/_testing.py:19: FutureWarning: pandas.util.testing is deprecated. Use the functions in the public API at pandas.testing instead.\n",
            "  import pandas.util.testing as tm\n"
          ],
          "name": "stderr"
        },
        {
          "output_type": "display_data",
          "data": {
            "text/html": [
              "        <script type=\"text/javascript\">\n",
              "        window.PlotlyConfig = {MathJaxConfig: 'local'};\n",
              "        if (window.MathJax) {MathJax.Hub.Config({SVG: {font: \"STIX-Web\"}});}\n",
              "        if (typeof require !== 'undefined') {\n",
              "        require.undef(\"plotly\");\n",
              "        requirejs.config({\n",
              "            paths: {\n",
              "                'plotly': ['https://cdn.plot.ly/plotly-latest.min']\n",
              "            }\n",
              "        });\n",
              "        require(['plotly'], function(Plotly) {\n",
              "            window._Plotly = Plotly;\n",
              "        });\n",
              "        }\n",
              "        </script>\n",
              "        "
            ]
          },
          "metadata": {
            "tags": []
          }
        },
        {
          "output_type": "stream",
          "text": [
            "/usr/local/lib/python3.6/dist-packages/sklearn/externals/six.py:31: FutureWarning:\n",
            "\n",
            "The module is deprecated in version 0.21 and will be removed in version 0.23 since we've dropped support for Python 2.7. Please rely on the official version of six (https://pypi.org/project/six/).\n",
            "\n",
            "/usr/local/lib/python3.6/dist-packages/sklearn/utils/deprecation.py:144: FutureWarning:\n",
            "\n",
            "The sklearn.neighbors.base module is  deprecated in version 0.22 and will be removed in version 0.24. The corresponding classes / functions should instead be imported from sklearn.neighbors. Anything that cannot be imported from sklearn.neighbors is now part of the private API.\n",
            "\n"
          ],
          "name": "stderr"
        }
      ]
    },
    {
      "cell_type": "code",
      "metadata": {
        "id": "E5WVccDxDv83",
        "colab_type": "code",
        "colab": {
          "base_uri": "https://localhost:8080/",
          "height": 305
        },
        "outputId": "96f72476-b765-40cd-9507-af47ac4689af"
      },
      "source": [
        "attrition = pd.read_csv('WA_Fn-UseC_-HR-Employee-Attrition.csv')\n",
        "attrition.head()"
      ],
      "execution_count": 4,
      "outputs": [
        {
          "output_type": "execute_result",
          "data": {
            "text/html": [
              "<div>\n",
              "<style scoped>\n",
              "    .dataframe tbody tr th:only-of-type {\n",
              "        vertical-align: middle;\n",
              "    }\n",
              "\n",
              "    .dataframe tbody tr th {\n",
              "        vertical-align: top;\n",
              "    }\n",
              "\n",
              "    .dataframe thead th {\n",
              "        text-align: right;\n",
              "    }\n",
              "</style>\n",
              "<table border=\"1\" class=\"dataframe\">\n",
              "  <thead>\n",
              "    <tr style=\"text-align: right;\">\n",
              "      <th></th>\n",
              "      <th>Age</th>\n",
              "      <th>Attrition</th>\n",
              "      <th>BusinessTravel</th>\n",
              "      <th>DailyRate</th>\n",
              "      <th>Department</th>\n",
              "      <th>DistanceFromHome</th>\n",
              "      <th>Education</th>\n",
              "      <th>EducationField</th>\n",
              "      <th>EmployeeCount</th>\n",
              "      <th>EmployeeNumber</th>\n",
              "      <th>EnvironmentSatisfaction</th>\n",
              "      <th>Gender</th>\n",
              "      <th>HourlyRate</th>\n",
              "      <th>JobInvolvement</th>\n",
              "      <th>JobLevel</th>\n",
              "      <th>JobRole</th>\n",
              "      <th>JobSatisfaction</th>\n",
              "      <th>MaritalStatus</th>\n",
              "      <th>MonthlyIncome</th>\n",
              "      <th>MonthlyRate</th>\n",
              "      <th>NumCompaniesWorked</th>\n",
              "      <th>Over18</th>\n",
              "      <th>OverTime</th>\n",
              "      <th>PercentSalaryHike</th>\n",
              "      <th>PerformanceRating</th>\n",
              "      <th>RelationshipSatisfaction</th>\n",
              "      <th>StandardHours</th>\n",
              "      <th>StockOptionLevel</th>\n",
              "      <th>TotalWorkingYears</th>\n",
              "      <th>TrainingTimesLastYear</th>\n",
              "      <th>WorkLifeBalance</th>\n",
              "      <th>YearsAtCompany</th>\n",
              "      <th>YearsInCurrentRole</th>\n",
              "      <th>YearsSinceLastPromotion</th>\n",
              "      <th>YearsWithCurrManager</th>\n",
              "    </tr>\n",
              "  </thead>\n",
              "  <tbody>\n",
              "    <tr>\n",
              "      <th>0</th>\n",
              "      <td>41</td>\n",
              "      <td>Yes</td>\n",
              "      <td>Travel_Rarely</td>\n",
              "      <td>1102</td>\n",
              "      <td>Sales</td>\n",
              "      <td>1</td>\n",
              "      <td>2</td>\n",
              "      <td>Life Sciences</td>\n",
              "      <td>1</td>\n",
              "      <td>1</td>\n",
              "      <td>2</td>\n",
              "      <td>Female</td>\n",
              "      <td>94</td>\n",
              "      <td>3</td>\n",
              "      <td>2</td>\n",
              "      <td>Sales Executive</td>\n",
              "      <td>4</td>\n",
              "      <td>Single</td>\n",
              "      <td>5993</td>\n",
              "      <td>19479</td>\n",
              "      <td>8</td>\n",
              "      <td>Y</td>\n",
              "      <td>Yes</td>\n",
              "      <td>11</td>\n",
              "      <td>3</td>\n",
              "      <td>1</td>\n",
              "      <td>80</td>\n",
              "      <td>0</td>\n",
              "      <td>8</td>\n",
              "      <td>0</td>\n",
              "      <td>1</td>\n",
              "      <td>6</td>\n",
              "      <td>4</td>\n",
              "      <td>0</td>\n",
              "      <td>5</td>\n",
              "    </tr>\n",
              "    <tr>\n",
              "      <th>1</th>\n",
              "      <td>49</td>\n",
              "      <td>No</td>\n",
              "      <td>Travel_Frequently</td>\n",
              "      <td>279</td>\n",
              "      <td>Research &amp; Development</td>\n",
              "      <td>8</td>\n",
              "      <td>1</td>\n",
              "      <td>Life Sciences</td>\n",
              "      <td>1</td>\n",
              "      <td>2</td>\n",
              "      <td>3</td>\n",
              "      <td>Male</td>\n",
              "      <td>61</td>\n",
              "      <td>2</td>\n",
              "      <td>2</td>\n",
              "      <td>Research Scientist</td>\n",
              "      <td>2</td>\n",
              "      <td>Married</td>\n",
              "      <td>5130</td>\n",
              "      <td>24907</td>\n",
              "      <td>1</td>\n",
              "      <td>Y</td>\n",
              "      <td>No</td>\n",
              "      <td>23</td>\n",
              "      <td>4</td>\n",
              "      <td>4</td>\n",
              "      <td>80</td>\n",
              "      <td>1</td>\n",
              "      <td>10</td>\n",
              "      <td>3</td>\n",
              "      <td>3</td>\n",
              "      <td>10</td>\n",
              "      <td>7</td>\n",
              "      <td>1</td>\n",
              "      <td>7</td>\n",
              "    </tr>\n",
              "    <tr>\n",
              "      <th>2</th>\n",
              "      <td>37</td>\n",
              "      <td>Yes</td>\n",
              "      <td>Travel_Rarely</td>\n",
              "      <td>1373</td>\n",
              "      <td>Research &amp; Development</td>\n",
              "      <td>2</td>\n",
              "      <td>2</td>\n",
              "      <td>Other</td>\n",
              "      <td>1</td>\n",
              "      <td>4</td>\n",
              "      <td>4</td>\n",
              "      <td>Male</td>\n",
              "      <td>92</td>\n",
              "      <td>2</td>\n",
              "      <td>1</td>\n",
              "      <td>Laboratory Technician</td>\n",
              "      <td>3</td>\n",
              "      <td>Single</td>\n",
              "      <td>2090</td>\n",
              "      <td>2396</td>\n",
              "      <td>6</td>\n",
              "      <td>Y</td>\n",
              "      <td>Yes</td>\n",
              "      <td>15</td>\n",
              "      <td>3</td>\n",
              "      <td>2</td>\n",
              "      <td>80</td>\n",
              "      <td>0</td>\n",
              "      <td>7</td>\n",
              "      <td>3</td>\n",
              "      <td>3</td>\n",
              "      <td>0</td>\n",
              "      <td>0</td>\n",
              "      <td>0</td>\n",
              "      <td>0</td>\n",
              "    </tr>\n",
              "    <tr>\n",
              "      <th>3</th>\n",
              "      <td>33</td>\n",
              "      <td>No</td>\n",
              "      <td>Travel_Frequently</td>\n",
              "      <td>1392</td>\n",
              "      <td>Research &amp; Development</td>\n",
              "      <td>3</td>\n",
              "      <td>4</td>\n",
              "      <td>Life Sciences</td>\n",
              "      <td>1</td>\n",
              "      <td>5</td>\n",
              "      <td>4</td>\n",
              "      <td>Female</td>\n",
              "      <td>56</td>\n",
              "      <td>3</td>\n",
              "      <td>1</td>\n",
              "      <td>Research Scientist</td>\n",
              "      <td>3</td>\n",
              "      <td>Married</td>\n",
              "      <td>2909</td>\n",
              "      <td>23159</td>\n",
              "      <td>1</td>\n",
              "      <td>Y</td>\n",
              "      <td>Yes</td>\n",
              "      <td>11</td>\n",
              "      <td>3</td>\n",
              "      <td>3</td>\n",
              "      <td>80</td>\n",
              "      <td>0</td>\n",
              "      <td>8</td>\n",
              "      <td>3</td>\n",
              "      <td>3</td>\n",
              "      <td>8</td>\n",
              "      <td>7</td>\n",
              "      <td>3</td>\n",
              "      <td>0</td>\n",
              "    </tr>\n",
              "    <tr>\n",
              "      <th>4</th>\n",
              "      <td>27</td>\n",
              "      <td>No</td>\n",
              "      <td>Travel_Rarely</td>\n",
              "      <td>591</td>\n",
              "      <td>Research &amp; Development</td>\n",
              "      <td>2</td>\n",
              "      <td>1</td>\n",
              "      <td>Medical</td>\n",
              "      <td>1</td>\n",
              "      <td>7</td>\n",
              "      <td>1</td>\n",
              "      <td>Male</td>\n",
              "      <td>40</td>\n",
              "      <td>3</td>\n",
              "      <td>1</td>\n",
              "      <td>Laboratory Technician</td>\n",
              "      <td>2</td>\n",
              "      <td>Married</td>\n",
              "      <td>3468</td>\n",
              "      <td>16632</td>\n",
              "      <td>9</td>\n",
              "      <td>Y</td>\n",
              "      <td>No</td>\n",
              "      <td>12</td>\n",
              "      <td>3</td>\n",
              "      <td>4</td>\n",
              "      <td>80</td>\n",
              "      <td>1</td>\n",
              "      <td>6</td>\n",
              "      <td>3</td>\n",
              "      <td>3</td>\n",
              "      <td>2</td>\n",
              "      <td>2</td>\n",
              "      <td>2</td>\n",
              "      <td>2</td>\n",
              "    </tr>\n",
              "  </tbody>\n",
              "</table>\n",
              "</div>"
            ],
            "text/plain": [
              "   Age Attrition  ... YearsSinceLastPromotion  YearsWithCurrManager\n",
              "0   41       Yes  ...                       0                     5\n",
              "1   49        No  ...                       1                     7\n",
              "2   37       Yes  ...                       0                     0\n",
              "3   33        No  ...                       3                     0\n",
              "4   27        No  ...                       2                     2\n",
              "\n",
              "[5 rows x 35 columns]"
            ]
          },
          "metadata": {
            "tags": []
          },
          "execution_count": 4
        }
      ]
    },
    {
      "cell_type": "code",
      "metadata": {
        "id": "PvTL8MkiDzeP",
        "colab_type": "code",
        "colab": {
          "base_uri": "https://localhost:8080/",
          "height": 672
        },
        "outputId": "acc5a943-37f4-43f2-8877-74bd8a404d09"
      },
      "source": [
        "display(attrition.isnull().any())"
      ],
      "execution_count": 5,
      "outputs": [
        {
          "output_type": "display_data",
          "data": {
            "text/plain": [
              "Age                         False\n",
              "Attrition                   False\n",
              "BusinessTravel              False\n",
              "DailyRate                   False\n",
              "Department                  False\n",
              "DistanceFromHome            False\n",
              "Education                   False\n",
              "EducationField              False\n",
              "EmployeeCount               False\n",
              "EmployeeNumber              False\n",
              "EnvironmentSatisfaction     False\n",
              "Gender                      False\n",
              "HourlyRate                  False\n",
              "JobInvolvement              False\n",
              "JobLevel                    False\n",
              "JobRole                     False\n",
              "JobSatisfaction             False\n",
              "MaritalStatus               False\n",
              "MonthlyIncome               False\n",
              "MonthlyRate                 False\n",
              "NumCompaniesWorked          False\n",
              "Over18                      False\n",
              "OverTime                    False\n",
              "PercentSalaryHike           False\n",
              "PerformanceRating           False\n",
              "RelationshipSatisfaction    False\n",
              "StandardHours               False\n",
              "StockOptionLevel            False\n",
              "TotalWorkingYears           False\n",
              "TrainingTimesLastYear       False\n",
              "WorkLifeBalance             False\n",
              "YearsAtCompany              False\n",
              "YearsInCurrentRole          False\n",
              "YearsSinceLastPromotion     False\n",
              "YearsWithCurrManager        False\n",
              "dtype: bool"
            ]
          },
          "metadata": {
            "tags": []
          }
        }
      ]
    },
    {
      "cell_type": "code",
      "metadata": {
        "id": "Q9ujF4hHD22B",
        "colab_type": "code",
        "colab": {
          "base_uri": "https://localhost:8080/",
          "height": 305
        },
        "outputId": "6c34e9c8-6317-4e97-a43c-51536a28daf6"
      },
      "source": [
        "attrition.Attrition.value_counts().plot(kind='bar',alpha=.65)\n",
        "plt.title(\"Attrition Breakdown\")"
      ],
      "execution_count": 6,
      "outputs": [
        {
          "output_type": "execute_result",
          "data": {
            "text/plain": [
              "Text(0.5, 1.0, 'Attrition Breakdown')"
            ]
          },
          "metadata": {
            "tags": []
          },
          "execution_count": 6
        },
        {
          "output_type": "display_data",
          "data": {
            "image/png": "[encoded data removed]",
            "text/plain": [
              "<Figure size 432x288 with 1 Axes>"
            ]
          },
          "metadata": {
            "tags": [],
            "needs_background": "light"
          }
        }
      ]
    },
    {
      "cell_type": "code",
      "metadata": {
        "id": "tR9bbz_AD6DQ",
        "colab_type": "code",
        "colab": {
          "base_uri": "https://localhost:8080/",
          "height": 339
        },
        "outputId": "7d4356af-837f-4562-a3b5-98da9009e21f"
      },
      "source": [
        "pd.crosstab(attrition.Gender,attrition.Attrition).plot(kind='bar')\n",
        "plt.title('Attrition with respect to Gender')\n",
        "plt.xlabel('Gender')\n",
        "plt.ylabel('Frequency of Attrition')"
      ],
      "execution_count": 7,
      "outputs": [
        {
          "output_type": "execute_result",
          "data": {
            "text/plain": [
              "Text(0, 0.5, 'Frequency of Attrition')"
            ]
          },
          "metadata": {
            "tags": []
          },
          "execution_count": 7
        },
        {
          "output_type": "display_data",
          "data": {
            "image/png": "[encoded data removed]",
            "text/plain": [
              "<Figure size 432x288 with 1 Axes>"
            ]
          },
          "metadata": {
            "tags": [],
            "needs_background": "light"
          }
        }
      ]
    },
    {
      "cell_type": "code",
      "metadata": {
        "id": "G_WqzNBmEDTz",
        "colab_type": "code",
        "colab": {
          "base_uri": "https://localhost:8080/",
          "height": 368
        },
        "outputId": "6e349a71-aef3-47db-f2fa-953587ce7d0c"
      },
      "source": [
        "pd.crosstab(attrition.BusinessTravel,attrition.Attrition).plot(kind='bar')\n",
        "plt.title('Attrition with respect to BusinessTravel')\n",
        "plt.xlabel('BusinessTravel')\n",
        "plt.ylabel('Frequency of Attrition')\n",
        "plt.xticks(rotation=40)"
      ],
      "execution_count": 8,
      "outputs": [
        {
          "output_type": "execute_result",
          "data": {
            "text/plain": [
              "(array([0, 1, 2]), <a list of 3 Text major ticklabel objects>)"
            ]
          },
          "metadata": {
            "tags": []
          },
          "execution_count": 8
        },
        {
          "output_type": "display_data",
          "data": {
            "image/png": "[encoded data removed]",
            "text/plain": [
              "<Figure size 432x288 with 1 Axes>"
            ]
          },
          "metadata": {
            "tags": [],
            "needs_background": "light"
          }
        }
      ]
    },
    {
      "cell_type": "code",
      "metadata": {
        "id": "P1qyJ03lELYu",
        "colab_type": "code",
        "colab": {
          "base_uri": "https://localhost:8080/",
          "height": 393
        },
        "outputId": "93c3edfb-7b3d-4d8b-f746-32ad028563cd"
      },
      "source": [
        "pd.crosstab(attrition.Department,attrition.Attrition).plot(kind='bar', stacked=False)\n",
        "plt.title('Attrition with respect to Department')\n",
        "plt.xlabel('Department')\n",
        "plt.ylabel('Frequency of Attrition')\n",
        "plt.xticks(rotation=40)"
      ],
      "execution_count": 9,
      "outputs": [
        {
          "output_type": "execute_result",
          "data": {
            "text/plain": [
              "(array([0, 1, 2]), <a list of 3 Text major ticklabel objects>)"
            ]
          },
          "metadata": {
            "tags": []
          },
          "execution_count": 9
        },
        {
          "output_type": "display_data",
          "data": {
            "image/png": "[encoded data removed]",
            "text/plain": [
              "<Figure size 432x288 with 1 Axes>"
            ]
          },
          "metadata": {
            "tags": [],
            "needs_background": "light"
          }
        }
      ]
    },
    {
      "cell_type": "code",
      "metadata": {
        "id": "OdOkPkBiERW_",
        "colab_type": "code",
        "colab": {
          "base_uri": "https://localhost:8080/",
          "height": 393
        },
        "outputId": "0127d388-82c4-4f3c-b953-56e225297cb8"
      },
      "source": [
        "pd.crosstab(attrition['EducationField'],attrition['Attrition']).plot(kind='bar',stacked=False)\n",
        "plt.title('Attrition with respect to EducationField')\n",
        "plt.xlabel('EducationField')\n",
        "plt.ylabel('Frequency of Attrition')"
      ],
      "execution_count": 10,
      "outputs": [
        {
          "output_type": "execute_result",
          "data": {
            "text/plain": [
              "Text(0, 0.5, 'Frequency of Attrition')"
            ]
          },
          "metadata": {
            "tags": []
          },
          "execution_count": 10
        },
        {
          "output_type": "display_data",
          "data": {
            "image/png": "[encoded data removed]",
            "text/plain": [
              "<Figure size 432x288 with 1 Axes>"
            ]
          },
          "metadata": {
            "tags": [],
            "needs_background": "light"
          }
        }
      ]
    },
    {
      "cell_type": "code",
      "metadata": {
        "id": "L25wQOzeEVdp",
        "colab_type": "code",
        "colab": {
          "base_uri": "https://localhost:8080/",
          "height": 436
        },
        "outputId": "a1062316-3569-4d7a-d25b-f23f11bac471"
      },
      "source": [
        "pd.crosstab(attrition['JobRole'],attrition['Attrition']).plot(kind='bar', stacked=False)\n",
        "plt.title('Attrition with respect to JobRole')\n",
        "plt.xlabel('JobRole')\n",
        "plt.ylabel('Frequency of Attrition')"
      ],
      "execution_count": 11,
      "outputs": [
        {
          "output_type": "execute_result",
          "data": {
            "text/plain": [
              "Text(0, 0.5, 'Frequency of Attrition')"
            ]
          },
          "metadata": {
            "tags": []
          },
          "execution_count": 11
        },
        {
          "output_type": "display_data",
          "data": {
            "image/png": "[encoded data removed]",
            "text/plain": [
              "<Figure size 432x288 with 1 Axes>"
            ]
          },
          "metadata": {
            "tags": [],
            "needs_background": "light"
          }
        }
      ]
    },
    {
      "cell_type": "code",
      "metadata": {
        "id": "YwApgQBzEo9Q",
        "colab_type": "code",
        "colab": {
          "base_uri": "https://localhost:8080/",
          "height": 348
        },
        "outputId": "fc19c8de-3583-4335-e011-d99975d737cf"
      },
      "source": [
        "pd.crosstab(attrition['MaritalStatus'],attrition['Attrition']).plot(kind='bar', stacked=False)\n",
        "plt.title('Attrition with respect to MaritalStatus')\n",
        "plt.xlabel('MaritalStatus')\n",
        "plt.ylabel('Frequency of Attrition')"
      ],
      "execution_count": 12,
      "outputs": [
        {
          "output_type": "execute_result",
          "data": {
            "text/plain": [
              "Text(0, 0.5, 'Frequency of Attrition')"
            ]
          },
          "metadata": {
            "tags": []
          },
          "execution_count": 12
        },
        {
          "output_type": "display_data",
          "data": {
            "image/png": "[encoded data removed]",
            "text/plain": [
              "<Figure size 432x288 with 1 Axes>"
            ]
          },
          "metadata": {
            "tags": [],
            "needs_background": "light"
          }
        }
      ]
    },
    {
      "cell_type": "code",
      "metadata": {
        "id": "0SOSnDysE0gm",
        "colab_type": "code",
        "colab": {
          "base_uri": "https://localhost:8080/",
          "height": 585
        },
        "outputId": "2abaf7de-6446-44a9-f25f-0d54122e576b"
      },
      "source": [
        "# Plotting the KDEplots\n",
        "f, axes = plt.subplots(3, 3, figsize=(10, 8),\n",
        "sharex=False, sharey=False)\n",
        "# Defining our colormap scheme\n",
        "s = np.linspace(0, 3, 10)\n",
        "cmap = sns.cubehelix_palette(start=0.0, light=1, as_cmap=True)\n",
        "# Generate and plot\n",
        "x = attrition[\"Age\"].values\n",
        "y = attrition[\"TotalWorkingYears\"].values\n",
        "sns.kdeplot(x, y, cmap=cmap, shade=True, cut=5, ax=axes[0,0])\n",
        "axes[0,0].set( title = \"Age against Total working years\")\n",
        "cmap = sns.cubehelix_palette(start=0.333333333333, light=1, as_cmap=True)\n",
        "# Generate and plot\n",
        "x = attrition[\"Age\"].values\n",
        "y = attrition[\"DailyRate\"].values\n",
        "sns.kdeplot(x, y, cmap=cmap, shade=True, ax=axes[0,1])\n",
        "axes[0,1].set( title = \"Age against Daily Rate\")\n",
        "cmap = sns.cubehelix_palette(start=0.666666666667, light=1, as_cmap=True)\n",
        "# Generate and plot\n",
        "x = attrition[\"YearsInCurrentRole\"].values\n",
        "y = attrition[\"Age\"].values\n",
        "sns.kdeplot(x, y, cmap=cmap, shade=True, ax=axes[0,2])\n",
        "axes[0,2].set( title = \"Years in role against Age\")\n",
        "cmap = sns.cubehelix_palette(start=1.0, light=1, as_cmap=True)\n",
        "# Generate and plot\n",
        "x = attrition[\"DailyRate\"].values\n",
        "y = attrition[\"DistanceFromHome\"].values\n",
        "sns.kdeplot(x, y, cmap=cmap, shade=True, ax=axes[1,0])\n",
        "axes[1,0].set( title = \"Daily Rate against DistancefromHome\")\n",
        "cmap = sns.cubehelix_palette(start=1.333333333333, light=1, as_cmap=True)\n",
        "# Generate and plot\n",
        "x = attrition[\"DailyRate\"].values\n",
        "y = attrition[\"JobSatisfaction\"].values\n",
        "sns.kdeplot(x, y, cmap=cmap, shade=True, ax=axes[1,1])\n",
        "axes[1,1].set( title = \"Daily Rate against Job satisfaction\")\n",
        "cmap = sns.cubehelix_palette(start=1.666666666667, light=1, as_cmap=True)\n",
        "# Generate and plot\n",
        "x = attrition[\"YearsAtCompany\"].values\n",
        "y = attrition[\"JobSatisfaction\"].values\n",
        "sns.kdeplot(x, y, cmap=cmap, shade=True, ax=axes[1,2])\n",
        "axes[1,2].set( title = \"Daily Rate against distance\")\n",
        "cmap = sns.cubehelix_palette(start=2.0, light=1, as_cmap=True)\n",
        "# Generate and plot\n",
        "x = attrition[\"YearsAtCompany\"].values\n",
        "y = attrition[\"DailyRate\"].values\n",
        "sns.kdeplot(x, y, cmap=cmap, shade=True, ax=axes[2,0])\n",
        "axes[2,0].set( title = \"Years at company against Daily Rate\")\n",
        "cmap = sns.cubehelix_palette(start=2.333333333333, light=1, as_cmap=True)\n",
        "# Generate and plot\n",
        "x = attrition[\"RelationshipSatisfaction\"].values\n",
        "y = attrition[\"YearsWithCurrManager\"].values\n",
        "sns.kdeplot(x, y, cmap=cmap, shade=True, ax=axes[2,1])\n",
        "axes[2,1].set( title = \"Relationship Satisfaction vs years with manager\")\n",
        "cmap = sns.cubehelix_palette(start=2.666666666667, light=1, as_cmap=True)\n",
        "# Generate and plot\n",
        "x = attrition[\"WorkLifeBalance\"].values\n",
        "y = attrition[\"JobSatisfaction\"].values\n",
        "sns.kdeplot(x, y, cmap=cmap, shade=True, ax=axes[2,2])\n",
        "axes[2,2].set( title = \"WorklifeBalance against Satisfaction\")\n",
        "f.tight_layout()"
      ],
      "execution_count": 13,
      "outputs": [
        {
          "output_type": "display_data",
          "data": {
            "image/png": "[encoded data removed]",
            "text/plain": [
              "<Figure size 720x576 with 9 Axes>"
            ]
          },
          "metadata": {
            "tags": [],
            "needs_background": "light"
          }
        }
      ]
    },
    {
      "cell_type": "code",
      "metadata": {
        "id": "4eyHju61FBCh",
        "colab_type": "code",
        "colab": {
          "base_uri": "https://localhost:8080/",
          "height": 717
        },
        "outputId": "31a29a5a-531b-4367-f201-dd553ce84d98"
      },
      "source": [
        "# creating a list of only numerical values\n",
        "numerical = [u'Age', u'DailyRate', u'DistanceFromHome', \n",
        "             u'Education', u'EmployeeNumber', u'EnvironmentSatisfaction',\n",
        "             u'HourlyRate', u'JobInvolvement', u'JobLevel', u'JobSatisfaction',\n",
        "             u'MonthlyIncome', u'MonthlyRate', u'NumCompaniesWorked',\n",
        "             u'PercentSalaryHike', u'PerformanceRating', u'RelationshipSatisfaction',\n",
        "             u'StockOptionLevel', u'TotalWorkingYears',\n",
        "             u'TrainingTimesLastYear', u'WorkLifeBalance', u'YearsAtCompany',\n",
        "             u'YearsInCurrentRole', u'YearsSinceLastPromotion',u'YearsWithCurrManager']\n",
        "data = [\n",
        "    go.Heatmap(\n",
        "        z= attrition[numerical].astype(float).corr().values, # Generating the Pearson correlation\n",
        "        x=attrition[numerical].columns.values,\n",
        "        y=attrition[numerical].columns.values,\n",
        "        colorscale='Viridis',\n",
        "        reversescale = False,\n",
        "#         text = True ,\n",
        "        opacity = 1.0\n",
        "        \n",
        "    )\n",
        "]\n",
        "\n",
        "\n",
        "layout = go.Layout(\n",
        "    title='Pearson Correlation of numerical features',\n",
        "    xaxis = dict(ticks='', nticks=36),\n",
        "    yaxis = dict(ticks='' ),\n",
        "    width = 900, height = 700,\n",
        "    \n",
        ")\n",
        "\n",
        "\n",
        "fig = go.Figure(data=data, layout=layout)\n",
        "py.iplot(fig, filename='labelled-heatmap')"
      ],
      "execution_count": 14,
      "outputs": [
        {
          "output_type": "display_data",
          "data": {
            "text/html": [
              "<div>\n",
              "        \n",
              "        \n",
              "            <div id=\"2a0ce4d7-ee98-475d-813c-1c2e02e3fe86\" class=\"plotly-graph-div\" style=\"height:700px; width:900px;\"></div>\n",
              "            <script type=\"text/javascript\">\n",
              "                require([\"plotly\"], function(Plotly) {\n",
              "                    window.PLOTLYENV=window.PLOTLYENV || {};\n",
              "                    \n",
              "                if (document.getElementById(\"2a0ce4d7-ee98-475d-813c-1c2e02e3fe86\")) {\n",
              "                    Plotly.newPlot(\n",
              "                        '2a0ce4d7-ee98-475d-813c-1c2e02e3fe86',\n",
              "                        [{\"colorscale\": [[0.0, \"#440154\"], [0.1111111111111111, \"#482878\"], [0.2222222222222222, \"#3e4989\"], [0.3333333333333333, \"#31688e\"], [0.4444444444444444, \"#26828e\"], [0.5555555555555556, \"#1f9e89\"], [0.6666666666666666, \"#35b779\"], [0.7777777777777778, \"#6ece58\"], [0.8888888888888888, \"#b5de2b\"], [1.0, \"#fde725\"]], \"opacity\": 1.0, \"reversescale\": false, \"type\": \"heatmap\", \"x\": [\"Age\", \"DailyRate\", \"DistanceFromHome\", \"Education\", \"EmployeeNumber\", \"EnvironmentSatisfaction\", \"HourlyRate\", \"JobInvolvement\", \"JobLevel\", \"JobSatisfaction\", \"MonthlyIncome\", \"MonthlyRate\", \"NumCompaniesWorked\", \"PercentSalaryHike\", \"PerformanceRating\", \"RelationshipSatisfaction\", \"StockOptionLevel\", \"TotalWorkingYears\", \"TrainingTimesLastYear\", \"WorkLifeBalance\", \"YearsAtCompany\", \"YearsInCurrentRole\", \"YearsSinceLastPromotion\", \"YearsWithCurrManager\"], \"y\": [\"Age\", \"DailyRate\", \"DistanceFromHome\", \"Education\", \"EmployeeNumber\", \"EnvironmentSatisfaction\", \"HourlyRate\", \"JobInvolvement\", \"JobLevel\", \"JobSatisfaction\", \"MonthlyIncome\", \"MonthlyRate\", \"NumCompaniesWorked\", \"PercentSalaryHike\", \"PerformanceRating\", \"RelationshipSatisfaction\", \"StockOptionLevel\", \"TotalWorkingYears\", \"TrainingTimesLastYear\", \"WorkLifeBalance\", \"YearsAtCompany\", \"YearsInCurrentRole\", \"YearsSinceLastPromotion\", \"YearsWithCurrManager\"], \"z\": [[1.0, 0.010660942645538149, -0.0016861201480870135, 0.20803373101424003, -0.010145467076855675, 0.010146427861437251, 0.02428654255096734, 0.02981995862959055, 0.5096042284323877, -0.004891877148687357, 0.49785456692658075, 0.028051167133922784, 0.29963475798369266, 0.0036335849148617645, 0.0019038955127583738, 0.053534719671228664, 0.0375097124247778, 0.6803805357911991, -0.019620818942698393, -0.021490027957098534, 0.3113087697450993, 0.21290105556556693, 0.21651336785165384, 0.20208860237515222], [0.010660942645538149, 1.0, -0.004985337352552674, -0.01680643320915765, -0.050990433654478126, 0.018354854300385467, 0.023381421528320238, 0.04613487399781132, 0.0029663348551117142, 0.03057100783714411, 0.007707058872006039, -0.032181601522581774, 0.03815343427940969, 0.022703677496334916, 0.0004732963271882408, 0.007846030957248321, 0.042142796377206686, 0.014514738706320859, 0.002452542712083261, -0.037848051005781515, -0.034054767568547466, 0.009932014960094184, -0.03322898478777197, -0.026363178228837648], [-0.0016861201480870135, -0.004985337352552674, 1.0, 0.021041825624123364, 0.032916407199243866, -0.016075326996493465, 0.031130585611766015, 0.008783279886444232, 0.00530273055449623, -0.0036688391677204214, -0.01701444474527587, 0.027472863548884053, -0.029250804197292986, 0.04023537745919304, 0.02710961848197604, 0.006557474646578711, 0.044871998853181376, 0.004628425863783853, -0.036942234339916, -0.02655600410656897, 0.009507719899011271, 0.018844999108945663, 0.010028835943115365, 0.014406048430629939], [0.20803373101424003, -0.01680643320915765, 0.021041825624123364, 1.0, 0.042070093029328424, -0.027128313256511653, 0.016774828880960865, 0.042437634318608114, 0.10158888624850132, -0.011296116736574009, 0.09496067704188856, -0.026084197160047597, 0.12631656017668416, -0.011110940860654199, -0.024538791164833422, -0.009118376696381497, 0.01842222020401694, 0.14827969653887266, -0.025100241137933486, 0.009819189309781843, 0.06911369603133874, 0.060235554120695735, 0.05425433359132035, 0.06906537825528397], [-0.010145467076855675, -0.050990433654478126, 0.032916407199243866, 0.042070093029328424, 1.0, 0.017620802485588, 0.035179212418711185, -0.006887922987035419, -0.018519193974228312, -0.046246734939416716, -0.014828515873784741, 0.012648229168459414, -0.001251032039801599, -0.012943995546151018, -0.0203588251469522, -0.06986141146763623, 0.06222669251362312, -0.014365198461300408, 0.02360316959192501, 0.010308641437966677, -0.011240463708114035, -0.008416311998425857, -0.009019064206633747, -0.009196645292770457], [0.010146427861437251, 0.018354854300385467, -0.016075326996493465, -0.027128313256511653, 0.017620802485588, 1.0, -0.04985695620300049, -0.008277598171759227, 0.001211699448913975, -0.006784352599075191, -0.006259087754780221, 0.03759962286571541, 0.012594323218943297, -0.03170119524179215, -0.029547952297681358, 0.0076653835410744765, 0.0034321577550576604, -0.0026930703885341364, -0.019359308347132335, 0.027627295460115407, 0.0014575491911166178, 0.018007460142878566, 0.016193605568453423, -0.0049987226281075076], [0.02428654255096734, 0.023381421528320238, 0.031130585611766015, 0.016774828880960865, 0.035179212418711185, -0.04985695620300049, 1.0, 0.04286064097152996, -0.027853486405547332, -0.07133462437378851, -0.015794304380892906, -0.015296749550649706, 0.022156883390196815, -0.009061986253740113, -0.0021716974278102176, 0.0013304527859505607, 0.05026339906511977, -0.002333681823322244, -0.008547685209270621, -0.004607233750264436, -0.019581616209121213, -0.02410622020878486, -0.02671558606433533, -0.020123200184066038], [0.02981995862959055, 0.04613487399781132, 0.008783279886444232, 0.042437634318608114, -0.006887922987035419, -0.008277598171759227, 0.04286064097152996, 1.0, -0.012629882671190917, -0.02147591033530702, -0.015271490778732858, -0.016322079053317184, 0.01501241324311095, -0.017204572244480576, -0.029071333439070115, 0.03429682061119727, 0.021522640378023945, -0.005533182057407529, -0.015337825759428998, -0.014616593162761336, -0.02135542697962983, 0.008716963497611708, -0.024184292365178967, 0.025975807949088905], [0.5096042284323877, 0.0029663348551117142, 0.00530273055449623, 0.10158888624850132, -0.018519193974228312, 0.001211699448913975, -0.027853486405547332, -0.012629882671190917, 1.0, -0.0019437080267456803, 0.950299913479854, 0.039562951045684296, 0.14250112381048835, -0.03473049227941859, -0.021222082108856632, 0.021641510532591626, 0.013983910528615518, 0.7822078045362802, -0.01819055019354957, 0.03781774559666627, 0.5347386873756353, 0.3894467328766716, 0.35388534696410395, 0.3752806077657263], [-0.004891877148687357, 0.03057100783714411, -0.0036688391677204214, -0.011296116736574009, -0.046246734939416716, -0.006784352599075191, -0.07133462437378851, -0.02147591033530702, -0.0019437080267456803, 1.0, -0.007156742355912731, 0.0006439169427039258, -0.05569942601274601, 0.020002039364081937, 0.0022971970637801426, -0.012453593161926874, 0.01069022612075585, -0.02018507268501687, -0.005779334958609058, -0.019458710212974534, -0.003802627948288062, -0.0023047852298301056, -0.018213567810190918, -0.02765621388428996], [0.49785456692658075, 0.007707058872006039, -0.01701444474527587, 0.09496067704188856, -0.014828515873784741, -0.006259087754780221, -0.015794304380892906, -0.015271490778732858, 0.950299913479854, -0.007156742355912731, 1.0, 0.034813626134121846, 0.14951521598969764, -0.027268586440314498, -0.017120138237390704, 0.025873436137557375, 0.005407676696812226, 0.7728932462543548, -0.021736276823893293, 0.030683081556940366, 0.5142848257331964, 0.36381766692870654, 0.34497763816542787, 0.3440788832587207], [0.028051167133922784, -0.032181601522581774, 0.027472863548884053, -0.026084197160047597, 0.012648229168459414, 0.03759962286571541, -0.015296749550649706, -0.016322079053317184, 0.039562951045684296, 0.0006439169427039258, 0.034813626134121846, 1.0, 0.017521353415571556, -0.006429345946711349, -0.00981142848936072, -0.004085329337519465, -0.034322830206661034, 0.026442471176015413, 0.0014668806322857696, 0.007963157516976974, -0.02365510670617723, -0.012814874370471655, 0.0015667995146762359, -0.036745905336769295], [0.29963475798369266, 0.03815343427940969, -0.029250804197292986, 0.12631656017668416, -0.001251032039801599, 0.012594323218943297, 0.022156883390196815, 0.01501241324311095, 0.14250112381048835, -0.05569942601274601, 0.14951521598969764, 0.017521353415571556, 1.0, -0.010238309359925531, -0.014094872753535341, 0.052733048564885456, 0.03007547509689753, 0.23763858978479374, -0.06605407172783631, -0.008365684790058657, -0.11842134024259048, -0.09075393370080816, -0.03681389238350813, -0.11031915543773214], [0.0036335849148617645, 0.022703677496334916, 0.04023537745919304, -0.011110940860654199, -0.012943995546151018, -0.03170119524179215, -0.009061986253740113, -0.017204572244480576, -0.03473049227941859, 0.020002039364081937, -0.027268586440314498, -0.006429345946711349, -0.010238309359925531, 1.0, 0.7735499964012668, -0.0404900810570771, 0.00752774782052024, -0.02060848761769149, -0.005221012351720988, -0.0032796360093679373, -0.03599126243195386, -0.0015200265442777384, -0.022154312598866084, -0.011985248472361218], [0.0019038955127583738, 0.0004732963271882408, 0.02710961848197604, -0.024538791164833422, -0.0203588251469522, -0.029547952297681358, -0.0021716974278102176, -0.029071333439070115, -0.021222082108856632, 0.0022971970637801426, -0.017120138237390704, -0.00981142848936072, -0.014094872753535341, 0.7735499964012668, 1.0, -0.03135145544245493, 0.003506471614809925, 0.006743667905952884, -0.015578881739137221, 0.002572361317682325, 0.003435126115923952, 0.03498626040719472, 0.017896066144799612, 0.022827168908479786], [0.053534719671228664, 0.007846030957248321, 0.006557474646578711, -0.009118376696381497, -0.06986141146763623, 0.0076653835410744765, 0.0013304527859505607, 0.03429682061119727, 0.021641510532591626, -0.012453593161926874, 0.025873436137557375, -0.004085329337519465, 0.052733048564885456, -0.0404900810570771, -0.03135145544245493, 1.0, -0.04595249071656096, 0.02405429182134115, 0.0024965263921170973, 0.01960440570396862, 0.019366786877455352, -0.015122914881937524, 0.033492502069353614, -0.0008674968446255921], [0.0375097124247778, 0.042142796377206686, 0.044871998853181376, 0.01842222020401694, 0.06222669251362312, 0.0034321577550576604, 0.05026339906511977, 0.021522640378023945, 0.013983910528615518, 0.01069022612075585, 0.005407676696812226, -0.034322830206661034, 0.03007547509689753, 0.00752774782052024, 0.003506471614809925, -0.04595249071656096, 1.0, 0.01013596931890164, 0.011274069611249013, 0.004128730002871822, 0.015058008028094429, 0.05081787275393108, 0.014352184864355582, 0.02469822656302997], [0.6803805357911991, 0.014514738706320859, 0.004628425863783853, 0.14827969653887266, -0.014365198461300408, -0.0026930703885341364, -0.002333681823322244, -0.005533182057407529, 0.7822078045362802, -0.02018507268501687, 0.7728932462543548, 0.026442471176015413, 0.23763858978479374, -0.02060848761769149, 0.006743667905952884, 0.02405429182134115, 0.01013596931890164, 1.0, -0.03566157127961898, 0.0010076456218964744, 0.6281331552682479, 0.4603646380118082, 0.40485775850255995, 0.4591883970831438], [-0.019620818942698393, 0.002452542712083261, -0.036942234339916, -0.025100241137933486, 0.02360316959192501, -0.019359308347132335, -0.008547685209270621, -0.015337825759428998, -0.01819055019354957, -0.005779334958609058, -0.021736276823893293, 0.0014668806322857696, -0.06605407172783631, -0.005221012351720988, -0.015578881739137221, 0.0024965263921170973, 0.011274069611249013, -0.03566157127961898, 1.0, 0.028072206603628903, 0.003568665678427497, -0.005737504337956901, -0.00206653603800598, -0.0040955260212261965], [-0.021490027957098534, -0.037848051005781515, -0.02655600410656897, 0.009819189309781843, 0.010308641437966677, 0.027627295460115407, -0.004607233750264436, -0.014616593162761336, 0.03781774559666627, -0.019458710212974534, 0.030683081556940366, 0.007963157516976974, -0.008365684790058657, -0.0032796360093679373, 0.002572361317682325, 0.01960440570396862, 0.004128730002871822, 0.0010076456218964744, 0.028072206603628903, 1.0, 0.012089185354581271, 0.04985649792220411, 0.008941249141234248, 0.002759440242340434], [0.3113087697450993, -0.034054767568547466, 0.009507719899011271, 0.06911369603133874, -0.011240463708114035, 0.0014575491911166178, -0.019581616209121213, -0.02135542697962983, 0.5347386873756353, -0.003802627948288062, 0.5142848257331964, -0.02365510670617723, -0.11842134024259048, -0.03599126243195386, 0.003435126115923952, 0.019366786877455352, 0.015058008028094429, 0.6281331552682479, 0.003568665678427497, 0.012089185354581271, 1.0, 0.7587537366134616, 0.618408865217602, 0.7692124251006991], [0.21290105556556693, 0.009932014960094184, 0.018844999108945663, 0.060235554120695735, -0.008416311998425857, 0.018007460142878566, -0.02410622020878486, 0.008716963497611708, 0.3894467328766716, -0.0023047852298301056, 0.36381766692870654, -0.012814874370471655, -0.09075393370080816, -0.0015200265442777384, 0.03498626040719472, -0.015122914881937524, 0.05081787275393108, 0.4603646380118082, -0.005737504337956901, 0.04985649792220411, 0.7587537366134616, 1.0, 0.5480562476995158, 0.7143647616385903], [0.21651336785165384, -0.03322898478777197, 0.010028835943115365, 0.05425433359132035, -0.009019064206633747, 0.016193605568453423, -0.02671558606433533, -0.024184292365178967, 0.35388534696410395, -0.018213567810190918, 0.34497763816542787, 0.0015667995146762359, -0.03681389238350813, -0.022154312598866084, 0.017896066144799612, 0.033492502069353614, 0.014352184864355582, 0.40485775850255995, -0.00206653603800598, 0.008941249141234248, 0.618408865217602, 0.5480562476995158, 1.0, 0.5102236357788096], [0.20208860237515222, -0.026363178228837648, 0.014406048430629939, 0.06906537825528397, -0.009196645292770457, -0.0049987226281075076, -0.020123200184066038, 0.025975807949088905, 0.3752806077657263, -0.02765621388428996, 0.3440788832587207, -0.036745905336769295, -0.11031915543773214, -0.011985248472361218, 0.022827168908479786, -0.0008674968446255921, 0.02469822656302997, 0.4591883970831438, -0.0040955260212261965, 0.002759440242340434, 0.7692124251006991, 0.7143647616385903, 0.5102236357788096, 1.0]]}],\n",
              "                        {\"height\": 700, \"template\": {\"data\": {\"bar\": [{\"error_x\": {\"color\": \"#2a3f5f\"}, \"error_y\": {\"color\": \"#2a3f5f\"}, \"marker\": {\"line\": {\"color\": \"#E5ECF6\", \"width\": 0.5}}, \"type\": \"bar\"}], \"barpolar\": [{\"marker\": {\"line\": {\"color\": \"#E5ECF6\", \"width\": 0.5}}, \"type\": \"barpolar\"}], \"carpet\": [{\"aaxis\": {\"endlinecolor\": \"#2a3f5f\", \"gridcolor\": \"white\", \"linecolor\": \"white\", \"minorgridcolor\": \"white\", \"startlinecolor\": \"#2a3f5f\"}, \"baxis\": {\"endlinecolor\": \"#2a3f5f\", \"gridcolor\": \"white\", \"linecolor\": \"white\", \"minorgridcolor\": \"white\", \"startlinecolor\": \"#2a3f5f\"}, \"type\": \"carpet\"}], \"choropleth\": [{\"colorbar\": {\"outlinewidth\": 0, \"ticks\": \"\"}, \"type\": \"choropleth\"}], \"contour\": [{\"colorbar\": {\"outlinewidth\": 0, \"ticks\": \"\"}, \"colorscale\": [[0.0, \"#0d0887\"], [0.1111111111111111, \"#46039f\"], [0.2222222222222222, \"#7201a8\"], [0.3333333333333333, \"#9c179e\"], [0.4444444444444444, \"#bd3786\"], [0.5555555555555556, \"#d8576b\"], [0.6666666666666666, \"#ed7953\"], [0.7777777777777778, \"#fb9f3a\"], [0.8888888888888888, \"#fdca26\"], [1.0, \"#f0f921\"]], \"type\": \"contour\"}], \"contourcarpet\": [{\"colorbar\": {\"outlinewidth\": 0, \"ticks\": \"\"}, \"type\": \"contourcarpet\"}], \"heatmap\": [{\"colorbar\": {\"outlinewidth\": 0, \"ticks\": \"\"}, \"colorscale\": [[0.0, \"#0d0887\"], [0.1111111111111111, \"#46039f\"], [0.2222222222222222, \"#7201a8\"], [0.3333333333333333, \"#9c179e\"], [0.4444444444444444, \"#bd3786\"], [0.5555555555555556, \"#d8576b\"], [0.6666666666666666, \"#ed7953\"], [0.7777777777777778, \"#fb9f3a\"], [0.8888888888888888, \"#fdca26\"], [1.0, \"#f0f921\"]], \"type\": \"heatmap\"}], \"heatmapgl\": [{\"colorbar\": {\"outlinewidth\": 0, \"ticks\": \"\"}, \"colorscale\": [[0.0, \"#0d0887\"], [0.1111111111111111, \"#46039f\"], [0.2222222222222222, \"#7201a8\"], [0.3333333333333333, \"#9c179e\"], [0.4444444444444444, \"#bd3786\"], [0.5555555555555556, \"#d8576b\"], [0.6666666666666666, \"#ed7953\"], [0.7777777777777778, \"#fb9f3a\"], [0.8888888888888888, \"#fdca26\"], [1.0, \"#f0f921\"]], \"type\": \"heatmapgl\"}], \"histogram\": [{\"marker\": {\"colorbar\": {\"outlinewidth\": 0, \"ticks\": \"\"}}, \"type\": \"histogram\"}], \"histogram2d\": [{\"colorbar\": {\"outlinewidth\": 0, \"ticks\": \"\"}, \"colorscale\": [[0.0, \"#0d0887\"], [0.1111111111111111, \"#46039f\"], [0.2222222222222222, \"#7201a8\"], [0.3333333333333333, \"#9c179e\"], [0.4444444444444444, \"#bd3786\"], [0.5555555555555556, \"#d8576b\"], [0.6666666666666666, \"#ed7953\"], [0.7777777777777778, \"#fb9f3a\"], [0.8888888888888888, \"#fdca26\"], [1.0, \"#f0f921\"]], \"type\": \"histogram2d\"}], \"histogram2dcontour\": [{\"colorbar\": {\"outlinewidth\": 0, \"ticks\": \"\"}, \"colorscale\": [[0.0, \"#0d0887\"], [0.1111111111111111, \"#46039f\"], [0.2222222222222222, \"#7201a8\"], [0.3333333333333333, \"#9c179e\"], [0.4444444444444444, \"#bd3786\"], [0.5555555555555556, \"#d8576b\"], [0.6666666666666666, \"#ed7953\"], [0.7777777777777778, \"#fb9f3a\"], [0.8888888888888888, \"#fdca26\"], [1.0, \"#f0f921\"]], \"type\": \"histogram2dcontour\"}], \"mesh3d\": [{\"colorbar\": {\"outlinewidth\": 0, \"ticks\": \"\"}, \"type\": \"mesh3d\"}], \"parcoords\": [{\"line\": {\"colorbar\": {\"outlinewidth\": 0, \"ticks\": \"\"}}, \"type\": \"parcoords\"}], \"pie\": [{\"automargin\": true, \"type\": \"pie\"}], \"scatter\": [{\"marker\": {\"colorbar\": {\"outlinewidth\": 0, \"ticks\": \"\"}}, \"type\": \"scatter\"}], \"scatter3d\": [{\"line\": {\"colorbar\": {\"outlinewidth\": 0, \"ticks\": \"\"}}, \"marker\": {\"colorbar\": {\"outlinewidth\": 0, \"ticks\": \"\"}}, \"type\": \"scatter3d\"}], \"scattercarpet\": [{\"marker\": {\"colorbar\": {\"outlinewidth\": 0, \"ticks\": \"\"}}, \"type\": \"scattercarpet\"}], \"scattergeo\": [{\"marker\": {\"colorbar\": {\"outlinewidth\": 0, \"ticks\": \"\"}}, \"type\": \"scattergeo\"}], \"scattergl\": [{\"marker\": {\"colorbar\": {\"outlinewidth\": 0, \"ticks\": \"\"}}, \"type\": \"scattergl\"}], \"scattermapbox\": [{\"marker\": {\"colorbar\": {\"outlinewidth\": 0, \"ticks\": \"\"}}, \"type\": \"scattermapbox\"}], \"scatterpolar\": [{\"marker\": {\"colorbar\": {\"outlinewidth\": 0, \"ticks\": \"\"}}, \"type\": \"scatterpolar\"}], \"scatterpolargl\": [{\"marker\": {\"colorbar\": {\"outlinewidth\": 0, \"ticks\": \"\"}}, \"type\": \"scatterpolargl\"}], \"scatterternary\": [{\"marker\": {\"colorbar\": {\"outlinewidth\": 0, \"ticks\": \"\"}}, \"type\": \"scatterternary\"}], \"surface\": [{\"colorbar\": {\"outlinewidth\": 0, \"ticks\": \"\"}, \"colorscale\": [[0.0, \"#0d0887\"], [0.1111111111111111, \"#46039f\"], [0.2222222222222222, \"#7201a8\"], [0.3333333333333333, \"#9c179e\"], [0.4444444444444444, \"#bd3786\"], [0.5555555555555556, \"#d8576b\"], [0.6666666666666666, \"#ed7953\"], [0.7777777777777778, \"#fb9f3a\"], [0.8888888888888888, \"#fdca26\"], [1.0, \"#f0f921\"]], \"type\": \"surface\"}], \"table\": [{\"cells\": {\"fill\": {\"color\": \"#EBF0F8\"}, \"line\": {\"color\": \"white\"}}, \"header\": {\"fill\": {\"color\": \"#C8D4E3\"}, \"line\": {\"color\": \"white\"}}, \"type\": \"table\"}]}, \"layout\": {\"annotationdefaults\": {\"arrowcolor\": \"#2a3f5f\", \"arrowhead\": 0, \"arrowwidth\": 1}, \"coloraxis\": {\"colorbar\": {\"outlinewidth\": 0, \"ticks\": \"\"}}, \"colorscale\": {\"diverging\": [[0, \"#8e0152\"], [0.1, \"#c51b7d\"], [0.2, \"#de77ae\"], [0.3, \"#f1b6da\"], [0.4, \"#fde0ef\"], [0.5, \"#f7f7f7\"], [0.6, \"#e6f5d0\"], [0.7, \"#b8e186\"], [0.8, \"#7fbc41\"], [0.9, \"#4d9221\"], [1, \"#276419\"]], \"sequential\": [[0.0, \"#0d0887\"], [0.1111111111111111, \"#46039f\"], [0.2222222222222222, \"#7201a8\"], [0.3333333333333333, \"#9c179e\"], [0.4444444444444444, \"#bd3786\"], [0.5555555555555556, \"#d8576b\"], [0.6666666666666666, \"#ed7953\"], [0.7777777777777778, \"#fb9f3a\"], [0.8888888888888888, \"#fdca26\"], [1.0, \"#f0f921\"]], \"sequentialminus\": [[0.0, \"#0d0887\"], [0.1111111111111111, \"#46039f\"], [0.2222222222222222, \"#7201a8\"], [0.3333333333333333, \"#9c179e\"], [0.4444444444444444, \"#bd3786\"], [0.5555555555555556, \"#d8576b\"], [0.6666666666666666, \"#ed7953\"], [0.7777777777777778, \"#fb9f3a\"], [0.8888888888888888, \"#fdca26\"], [1.0, \"#f0f921\"]]}, \"colorway\": [\"#636efa\", \"#EF553B\", \"#00cc96\", \"#ab63fa\", \"#FFA15A\", \"#19d3f3\", \"#FF6692\", \"#B6E880\", \"#FF97FF\", \"#FECB52\"], \"font\": {\"color\": \"#2a3f5f\"}, \"geo\": {\"bgcolor\": \"white\", \"lakecolor\": \"white\", \"landcolor\": \"#E5ECF6\", \"showlakes\": true, \"showland\": true, \"subunitcolor\": \"white\"}, \"hoverlabel\": {\"align\": \"left\"}, \"hovermode\": \"closest\", \"mapbox\": {\"style\": \"light\"}, \"paper_bgcolor\": \"white\", \"plot_bgcolor\": \"#E5ECF6\", \"polar\": {\"angularaxis\": {\"gridcolor\": \"white\", \"linecolor\": \"white\", \"ticks\": \"\"}, \"bgcolor\": \"#E5ECF6\", \"radialaxis\": {\"gridcolor\": \"white\", \"linecolor\": \"white\", \"ticks\": \"\"}}, \"scene\": {\"xaxis\": {\"backgroundcolor\": \"#E5ECF6\", \"gridcolor\": \"white\", \"gridwidth\": 2, \"linecolor\": \"white\", \"showbackground\": true, \"ticks\": \"\", \"zerolinecolor\": \"white\"}, \"yaxis\": {\"backgroundcolor\": \"#E5ECF6\", \"gridcolor\": \"white\", \"gridwidth\": 2, \"linecolor\": \"white\", \"showbackground\": true, \"ticks\": \"\", \"zerolinecolor\": \"white\"}, \"zaxis\": {\"backgroundcolor\": \"#E5ECF6\", \"gridcolor\": \"white\", \"gridwidth\": 2, \"linecolor\": \"white\", \"showbackground\": true, \"ticks\": \"\", \"zerolinecolor\": \"white\"}}, \"shapedefaults\": {\"line\": {\"color\": \"#2a3f5f\"}}, \"ternary\": {\"aaxis\": {\"gridcolor\": \"white\", \"linecolor\": \"white\", \"ticks\": \"\"}, \"baxis\": {\"gridcolor\": \"white\", \"linecolor\": \"white\", \"ticks\": \"\"}, \"bgcolor\": \"#E5ECF6\", \"caxis\": {\"gridcolor\": \"white\", \"linecolor\": \"white\", \"ticks\": \"\"}}, \"title\": {\"x\": 0.05}, \"xaxis\": {\"automargin\": true, \"gridcolor\": \"white\", \"linecolor\": \"white\", \"ticks\": \"\", \"title\": {\"standoff\": 15}, \"zerolinecolor\": \"white\", \"zerolinewidth\": 2}, \"yaxis\": {\"automargin\": true, \"gridcolor\": \"white\", \"linecolor\": \"white\", \"ticks\": \"\", \"title\": {\"standoff\": 15}, \"zerolinecolor\": \"white\", \"zerolinewidth\": 2}}}, \"title\": {\"text\": \"Pearson Correlation of numerical features\"}, \"width\": 900, \"xaxis\": {\"nticks\": 36, \"ticks\": \"\"}, \"yaxis\": {\"ticks\": \"\"}},\n",
              "                        {\"responsive\": true}\n",
              "                    ).then(function(){\n",
              "                            \n",
              "var gd = document.getElementById('2a0ce4d7-ee98-475d-813c-1c2e02e3fe86');\n",
              "var x = new MutationObserver(function (mutations, observer) {{\n",
              "        var display = window.getComputedStyle(gd).display;\n",
              "        if (!display || display === 'none') {{\n",
              "            console.log([gd, 'removed!']);\n",
              "            Plotly.purge(gd);\n",
              "            observer.disconnect();\n",
              "        }}\n",
              "}});\n",
              "\n",
              "// Listen for the removal of the full notebook cells\n",
              "var notebookContainer = gd.closest('#notebook-container');\n",
              "if (notebookContainer) {{\n",
              "    x.observe(notebookContainer, {childList: true});\n",
              "}}\n",
              "\n",
              "// Listen for the clearing of the current output cell\n",
              "var outputEl = gd.closest('.output');\n",
              "if (outputEl) {{\n",
              "    x.observe(outputEl, {childList: true});\n",
              "}}\n",
              "\n",
              "                        })\n",
              "                };\n",
              "                });\n",
              "            </script>\n",
              "        </div>"
            ],
            "application/vnd.plotly.v1+json": {
              "data": [
                {
                  "opacity": 1,
                  "colorscale": [
                    [
                      0,
                      "#440154"
                    ],
                    [
                      0.1111111111111111,
                      "#482878"
                    ],
                    [
                      0.2222222222222222,
                      "#3e4989"
                    ],
                    [
                      0.3333333333333333,
                      "#31688e"
                    ],
                    [
                      0.4444444444444444,
                      "#26828e"
                    ],
                    [
                      0.5555555555555556,
                      "#1f9e89"
                    ],
                    [
                      0.6666666666666666,
                      "#35b779"
                    ],
                    [
                      0.7777777777777778,
                      "#6ece58"
                    ],
                    [
                      0.8888888888888888,
                      "#b5de2b"
                    ],
                    [
                      1,
                      "#fde725"
                    ]
                  ],
                  "reversescale": false,
                  "y": [
                    "Age",
                    "DailyRate",
                    "DistanceFromHome",
                    "Education",
                    "EmployeeNumber",
                    "EnvironmentSatisfaction",
                    "HourlyRate",
                    "JobInvolvement",
                    "JobLevel",
                    "JobSatisfaction",
                    "MonthlyIncome",
                    "MonthlyRate",
                    "NumCompaniesWorked",
                    "PercentSalaryHike",
                    "PerformanceRating",
                    "RelationshipSatisfaction",
                    "StockOptionLevel",
                    "TotalWorkingYears",
                    "TrainingTimesLastYear",
                    "WorkLifeBalance",
                    "YearsAtCompany",
                    "YearsInCurrentRole",
                    "YearsSinceLastPromotion",
                    "YearsWithCurrManager"
                  ],
                  "x": [
                    "Age",
                    "DailyRate",
                    "DistanceFromHome",
                    "Education",
                    "EmployeeNumber",
                    "EnvironmentSatisfaction",
                    "HourlyRate",
                    "JobInvolvement",
                    "JobLevel",
                    "JobSatisfaction",
                    "MonthlyIncome",
                    "MonthlyRate",
                    "NumCompaniesWorked",
                    "PercentSalaryHike",
                    "PerformanceRating",
                    "RelationshipSatisfaction",
                    "StockOptionLevel",
                    "TotalWorkingYears",
                    "TrainingTimesLastYear",
                    "WorkLifeBalance",
                    "YearsAtCompany",
                    "YearsInCurrentRole",
                    "YearsSinceLastPromotion",
                    "YearsWithCurrManager"
                  ],
                  "z": [
                    [
                      1,
                      0.010660942645538149,
                      -0.0016861201480870135,
                      0.20803373101424003,
                      -0.010145467076855675,
                      0.010146427861437251,
                      0.02428654255096734,
                      0.02981995862959055,
                      0.5096042284323877,
                      -0.004891877148687357,
                      0.49785456692658075,
                      0.028051167133922784,
                      0.29963475798369266,
                      0.0036335849148617645,
                      0.0019038955127583738,
                      0.053534719671228664,
                      0.0375097124247778,
                      0.6803805357911991,
                      -0.019620818942698393,
                      -0.021490027957098534,
                      0.3113087697450993,
                      0.21290105556556693,
                      0.21651336785165384,
                      0.20208860237515222
                    ],
                    [
                      0.010660942645538149,
                      1,
                      -0.004985337352552674,
                      -0.01680643320915765,
                      -0.050990433654478126,
                      0.018354854300385467,
                      0.023381421528320238,
                      0.04613487399781132,
                      0.0029663348551117142,
                      0.03057100783714411,
                      0.007707058872006039,
                      -0.032181601522581774,
                      0.03815343427940969,
                      0.022703677496334916,
                      0.0004732963271882408,
                      0.007846030957248321,
                      0.042142796377206686,
                      0.014514738706320859,
                      0.002452542712083261,
                      -0.037848051005781515,
                      -0.034054767568547466,
                      0.009932014960094184,
                      -0.03322898478777197,
                      -0.026363178228837648
                    ],
                    [
                      -0.0016861201480870135,
                      -0.004985337352552674,
                      1,
                      0.021041825624123364,
                      0.032916407199243866,
                      -0.016075326996493465,
                      0.031130585611766015,
                      0.008783279886444232,
                      0.00530273055449623,
                      -0.0036688391677204214,
                      -0.01701444474527587,
                      0.027472863548884053,
                      -0.029250804197292986,
                      0.04023537745919304,
                      0.02710961848197604,
                      0.006557474646578711,
                      0.044871998853181376,
                      0.004628425863783853,
                      -0.036942234339916,
                      -0.02655600410656897,
                      0.009507719899011271,
                      0.018844999108945663,
                      0.010028835943115365,
                      0.014406048430629939
                    ],
                    [
                      0.20803373101424003,
                      -0.01680643320915765,
                      0.021041825624123364,
                      1,
                      0.042070093029328424,
                      -0.027128313256511653,
                      0.016774828880960865,
                      0.042437634318608114,
                      0.10158888624850132,
                      -0.011296116736574009,
                      0.09496067704188856,
                      -0.026084197160047597,
                      0.12631656017668416,
                      -0.011110940860654199,
                      -0.024538791164833422,
                      -0.009118376696381497,
                      0.01842222020401694,
                      0.14827969653887266,
                      -0.025100241137933486,
                      0.009819189309781843,
                      0.06911369603133874,
                      0.060235554120695735,
                      0.05425433359132035,
                      0.06906537825528397
                    ],
                    [
                      -0.010145467076855675,
                      -0.050990433654478126,
                      0.032916407199243866,
                      0.042070093029328424,
                      1,
                      0.017620802485588,
                      0.035179212418711185,
                      -0.006887922987035419,
                      -0.018519193974228312,
                      -0.046246734939416716,
                      -0.014828515873784741,
                      0.012648229168459414,
                      -0.001251032039801599,
                      -0.012943995546151018,
                      -0.0203588251469522,
                      -0.06986141146763623,
                      0.06222669251362312,
                      -0.014365198461300408,
                      0.02360316959192501,
                      0.010308641437966677,
                      -0.011240463708114035,
                      -0.008416311998425857,
                      -0.009019064206633747,
                      -0.009196645292770457
                    ],
                    [
                      0.010146427861437251,
                      0.018354854300385467,
                      -0.016075326996493465,
                      -0.027128313256511653,
                      0.017620802485588,
                      1,
                      -0.04985695620300049,
                      -0.008277598171759227,
                      0.001211699448913975,
                      -0.006784352599075191,
                      -0.006259087754780221,
                      0.03759962286571541,
                      0.012594323218943297,
                      -0.03170119524179215,
                      -0.029547952297681358,
                      0.0076653835410744765,
                      0.0034321577550576604,
                      -0.0026930703885341364,
                      -0.019359308347132335,
                      0.027627295460115407,
                      0.0014575491911166178,
                      0.018007460142878566,
                      0.016193605568453423,
                      -0.0049987226281075076
                    ],
                    [
                      0.02428654255096734,
                      0.023381421528320238,
                      0.031130585611766015,
                      0.016774828880960865,
                      0.035179212418711185,
                      -0.04985695620300049,
                      1,
                      0.04286064097152996,
                      -0.027853486405547332,
                      -0.07133462437378851,
                      -0.015794304380892906,
                      -0.015296749550649706,
                      0.022156883390196815,
                      -0.009061986253740113,
                      -0.0021716974278102176,
                      0.0013304527859505607,
                      0.05026339906511977,
                      -0.002333681823322244,
                      -0.008547685209270621,
                      -0.004607233750264436,
                      -0.019581616209121213,
                      -0.02410622020878486,
                      -0.02671558606433533,
                      -0.020123200184066038
                    ],
                    [
                      0.02981995862959055,
                      0.04613487399781132,
                      0.008783279886444232,
                      0.042437634318608114,
                      -0.006887922987035419,
                      -0.008277598171759227,
                      0.04286064097152996,
                      1,
                      -0.012629882671190917,
                      -0.02147591033530702,
                      -0.015271490778732858,
                      -0.016322079053317184,
                      0.01501241324311095,
                      -0.017204572244480576,
                      -0.029071333439070115,
                      0.03429682061119727,
                      0.021522640378023945,
                      -0.005533182057407529,
                      -0.015337825759428998,
                      -0.014616593162761336,
                      -0.02135542697962983,
                      0.008716963497611708,
                      -0.024184292365178967,
                      0.025975807949088905
                    ],
                    [
                      0.5096042284323877,
                      0.0029663348551117142,
                      0.00530273055449623,
                      0.10158888624850132,
                      -0.018519193974228312,
                      0.001211699448913975,
                      -0.027853486405547332,
                      -0.012629882671190917,
                      1,
                      -0.0019437080267456803,
                      0.950299913479854,
                      0.039562951045684296,
                      0.14250112381048835,
                      -0.03473049227941859,
                      -0.021222082108856632,
                      0.021641510532591626,
                      0.013983910528615518,
                      0.7822078045362802,
                      -0.01819055019354957,
                      0.03781774559666627,
                      0.5347386873756353,
                      0.3894467328766716,
                      0.35388534696410395,
                      0.3752806077657263
                    ],
                    [
                      -0.004891877148687357,
                      0.03057100783714411,
                      -0.0036688391677204214,
                      -0.011296116736574009,
                      -0.046246734939416716,
                      -0.006784352599075191,
                      -0.07133462437378851,
                      -0.02147591033530702,
                      -0.0019437080267456803,
                      1,
                      -0.007156742355912731,
                      0.0006439169427039258,
                      -0.05569942601274601,
                      0.020002039364081937,
                      0.0022971970637801426,
                      -0.012453593161926874,
                      0.01069022612075585,
                      -0.02018507268501687,
                      -0.005779334958609058,
                      -0.019458710212974534,
                      -0.003802627948288062,
                      -0.0023047852298301056,
                      -0.018213567810190918,
                      -0.02765621388428996
                    ],
                    [
                      0.49785456692658075,
                      0.007707058872006039,
                      -0.01701444474527587,
                      0.09496067704188856,
                      -0.014828515873784741,
                      -0.006259087754780221,
                      -0.015794304380892906,
                      -0.015271490778732858,
                      0.950299913479854,
                      -0.007156742355912731,
                      1,
                      0.034813626134121846,
                      0.14951521598969764,
                      -0.027268586440314498,
                      -0.017120138237390704,
                      0.025873436137557375,
                      0.005407676696812226,
                      0.7728932462543548,
                      -0.021736276823893293,
                      0.030683081556940366,
                      0.5142848257331964,
                      0.36381766692870654,
                      0.34497763816542787,
                      0.3440788832587207
                    ],
                    [
                      0.028051167133922784,
                      -0.032181601522581774,
                      0.027472863548884053,
                      -0.026084197160047597,
                      0.012648229168459414,
                      0.03759962286571541,
                      -0.015296749550649706,
                      -0.016322079053317184,
                      0.039562951045684296,
                      0.0006439169427039258,
                      0.034813626134121846,
                      1,
                      0.017521353415571556,
                      -0.006429345946711349,
                      -0.00981142848936072,
                      -0.004085329337519465,
                      -0.034322830206661034,
                      0.026442471176015413,
                      0.0014668806322857696,
                      0.007963157516976974,
                      -0.02365510670617723,
                      -0.012814874370471655,
                      0.0015667995146762359,
                      -0.036745905336769295
                    ],
                    [
                      0.29963475798369266,
                      0.03815343427940969,
                      -0.029250804197292986,
                      0.12631656017668416,
                      -0.001251032039801599,
                      0.012594323218943297,
                      0.022156883390196815,
                      0.01501241324311095,
                      0.14250112381048835,
                      -0.05569942601274601,
                      0.14951521598969764,
                      0.017521353415571556,
                      1,
                      -0.010238309359925531,
                      -0.014094872753535341,
                      0.052733048564885456,
                      0.03007547509689753,
                      0.23763858978479374,
                      -0.06605407172783631,
                      -0.008365684790058657,
                      -0.11842134024259048,
                      -0.09075393370080816,
                      -0.03681389238350813,
                      -0.11031915543773214
                    ],
                    [
                      0.0036335849148617645,
                      0.022703677496334916,
                      0.04023537745919304,
                      -0.011110940860654199,
                      -0.012943995546151018,
                      -0.03170119524179215,
                      -0.009061986253740113,
                      -0.017204572244480576,
                      -0.03473049227941859,
                      0.020002039364081937,
                      -0.027268586440314498,
                      -0.006429345946711349,
                      -0.010238309359925531,
                      1,
                      0.7735499964012668,
                      -0.0404900810570771,
                      0.00752774782052024,
                      -0.02060848761769149,
                      -0.005221012351720988,
                      -0.0032796360093679373,
                      -0.03599126243195386,
                      -0.0015200265442777384,
                      -0.022154312598866084,
                      -0.011985248472361218
                    ],
                    [
                      0.0019038955127583738,
                      0.0004732963271882408,
                      0.02710961848197604,
                      -0.024538791164833422,
                      -0.0203588251469522,
                      -0.029547952297681358,
                      -0.0021716974278102176,
                      -0.029071333439070115,
                      -0.021222082108856632,
                      0.0022971970637801426,
                      -0.017120138237390704,
                      -0.00981142848936072,
                      -0.014094872753535341,
                      0.7735499964012668,
                      1,
                      -0.03135145544245493,
                      0.003506471614809925,
                      0.006743667905952884,
                      -0.015578881739137221,
                      0.002572361317682325,
                      0.003435126115923952,
                      0.03498626040719472,
                      0.017896066144799612,
                      0.022827168908479786
                    ],
                    [
                      0.053534719671228664,
                      0.007846030957248321,
                      0.006557474646578711,
                      -0.009118376696381497,
                      -0.06986141146763623,
                      0.0076653835410744765,
                      0.0013304527859505607,
                      0.03429682061119727,
                      0.021641510532591626,
                      -0.012453593161926874,
                      0.025873436137557375,
                      -0.004085329337519465,
                      0.052733048564885456,
                      -0.0404900810570771,
                      -0.03135145544245493,
                      1,
                      -0.04595249071656096,
                      0.02405429182134115,
                      0.0024965263921170973,
                      0.01960440570396862,
                      0.019366786877455352,
                      -0.015122914881937524,
                      0.033492502069353614,
                      -0.0008674968446255921
                    ],
                    [
                      0.0375097124247778,
                      0.042142796377206686,
                      0.044871998853181376,
                      0.01842222020401694,
                      0.06222669251362312,
                      0.0034321577550576604,
                      0.05026339906511977,
                      0.021522640378023945,
                      0.013983910528615518,
                      0.01069022612075585,
                      0.005407676696812226,
                      -0.034322830206661034,
                      0.03007547509689753,
                      0.00752774782052024,
                      0.003506471614809925,
                      -0.04595249071656096,
                      1,
                      0.01013596931890164,
                      0.011274069611249013,
                      0.004128730002871822,
                      0.015058008028094429,
                      0.05081787275393108,
                      0.014352184864355582,
                      0.02469822656302997
                    ],
                    [
                      0.6803805357911991,
                      0.014514738706320859,
                      0.004628425863783853,
                      0.14827969653887266,
                      -0.014365198461300408,
                      -0.0026930703885341364,
                      -0.002333681823322244,
                      -0.005533182057407529,
                      0.7822078045362802,
                      -0.02018507268501687,
                      0.7728932462543548,
                      0.026442471176015413,
                      0.23763858978479374,
                      -0.02060848761769149,
                      0.006743667905952884,
                      0.02405429182134115,
                      0.01013596931890164,
                      1,
                      -0.03566157127961898,
                      0.0010076456218964744,
                      0.6281331552682479,
                      0.4603646380118082,
                      0.40485775850255995,
                      0.4591883970831438
                    ],
                    [
                      -0.019620818942698393,
                      0.002452542712083261,
                      -0.036942234339916,
                      -0.025100241137933486,
                      0.02360316959192501,
                      -0.019359308347132335,
                      -0.008547685209270621,
                      -0.015337825759428998,
                      -0.01819055019354957,
                      -0.005779334958609058,
                      -0.021736276823893293,
                      0.0014668806322857696,
                      -0.06605407172783631,
                      -0.005221012351720988,
                      -0.015578881739137221,
                      0.0024965263921170973,
                      0.011274069611249013,
                      -0.03566157127961898,
                      1,
                      0.028072206603628903,
                      0.003568665678427497,
                      -0.005737504337956901,
                      -0.00206653603800598,
                      -0.0040955260212261965
                    ],
                    [
                      -0.021490027957098534,
                      -0.037848051005781515,
                      -0.02655600410656897,
                      0.009819189309781843,
                      0.010308641437966677,
                      0.027627295460115407,
                      -0.004607233750264436,
                      -0.014616593162761336,
                      0.03781774559666627,
                      -0.019458710212974534,
                      0.030683081556940366,
                      0.007963157516976974,
                      -0.008365684790058657,
                      -0.0032796360093679373,
                      0.002572361317682325,
                      0.01960440570396862,
                      0.004128730002871822,
                      0.0010076456218964744,
                      0.028072206603628903,
                      1,
                      0.012089185354581271,
                      0.04985649792220411,
                      0.008941249141234248,
                      0.002759440242340434
                    ],
                    [
                      0.3113087697450993,
                      -0.034054767568547466,
                      0.009507719899011271,
                      0.06911369603133874,
                      -0.011240463708114035,
                      0.0014575491911166178,
                      -0.019581616209121213,
                      -0.02135542697962983,
                      0.5347386873756353,
                      -0.003802627948288062,
                      0.5142848257331964,
                      -0.02365510670617723,
                      -0.11842134024259048,
                      -0.03599126243195386,
                      0.003435126115923952,
                      0.019366786877455352,
                      0.015058008028094429,
                      0.6281331552682479,
                      0.003568665678427497,
                      0.012089185354581271,
                      1,
                      0.7587537366134616,
                      0.618408865217602,
                      0.7692124251006991
                    ],
                    [
                      0.21290105556556693,
                      0.009932014960094184,
                      0.018844999108945663,
                      0.060235554120695735,
                      -0.008416311998425857,
                      0.018007460142878566,
                      -0.02410622020878486,
                      0.008716963497611708,
                      0.3894467328766716,
                      -0.0023047852298301056,
                      0.36381766692870654,
                      -0.012814874370471655,
                      -0.09075393370080816,
                      -0.0015200265442777384,
                      0.03498626040719472,
                      -0.015122914881937524,
                      0.05081787275393108,
                      0.4603646380118082,
                      -0.005737504337956901,
                      0.04985649792220411,
                      0.7587537366134616,
                      1,
                      0.5480562476995158,
                      0.7143647616385903
                    ],
                    [
                      0.21651336785165384,
                      -0.03322898478777197,
                      0.010028835943115365,
                      0.05425433359132035,
                      -0.009019064206633747,
                      0.016193605568453423,
                      -0.02671558606433533,
                      -0.024184292365178967,
                      0.35388534696410395,
                      -0.018213567810190918,
                      0.34497763816542787,
                      0.0015667995146762359,
                      -0.03681389238350813,
                      -0.022154312598866084,
                      0.017896066144799612,
                      0.033492502069353614,
                      0.014352184864355582,
                      0.40485775850255995,
                      -0.00206653603800598,
                      0.008941249141234248,
                      0.618408865217602,
                      0.5480562476995158,
                      1,
                      0.5102236357788096
                    ],
                    [
                      0.20208860237515222,
                      -0.026363178228837648,
                      0.014406048430629939,
                      0.06906537825528397,
                      -0.009196645292770457,
                      -0.0049987226281075076,
                      -0.020123200184066038,
                      0.025975807949088905,
                      0.3752806077657263,
                      -0.02765621388428996,
                      0.3440788832587207,
                      -0.036745905336769295,
                      -0.11031915543773214,
                      -0.011985248472361218,
                      0.022827168908479786,
                      -0.0008674968446255921,
                      0.02469822656302997,
                      0.4591883970831438,
                      -0.0040955260212261965,
                      0.002759440242340434,
                      0.7692124251006991,
                      0.7143647616385903,
                      0.5102236357788096,
                      1
                    ]
                  ],
                  "type": "heatmap"
                }
              ],
              "config": {
                "plotlyServerURL": "https://plot.ly",
                "linkText": "Export to plot.ly",
                "showLink": false
              },
              "layout": {
                "template": {
                  "layout": {
                    "shapedefaults": {
                      "line": {
                        "color": "#2a3f5f"
                      }
                    },
                    "polar": {
                      "radialaxis": {
                        "ticks": "",
                        "gridcolor": "white",
                        "linecolor": "white"
                      },
                      "bgcolor": "#E5ECF6",
                      "angularaxis": {
                        "ticks": "",
                        "gridcolor": "white",
                        "linecolor": "white"
                      }
                    },
                    "colorway": [
                      "#636efa",
                      "#EF553B",
                      "#00cc96",
                      "#ab63fa",
                      "#FFA15A",
                      "#19d3f3",
                      "#FF6692",
                      "#B6E880",
                      "#FF97FF",
                      "#FECB52"
                    ],
                    "xaxis": {
                      "automargin": true,
                      "title": {
                        "standoff": 15
                      },
                      "zerolinewidth": 2,
                      "ticks": "",
                      "zerolinecolor": "white",
                      "gridcolor": "white",
                      "linecolor": "white"
                    },
                    "colorscale": {
                      "diverging": [
                        [
                          0,
                          "#8e0152"
                        ],
                        [
                          0.1,
                          "#c51b7d"
                        ],
                        [
                          0.2,
                          "#de77ae"
                        ],
                        [
                          0.3,
                          "#f1b6da"
                        ],
                        [
                          0.4,
                          "#fde0ef"
                        ],
                        [
                          0.5,
                          "#f7f7f7"
                        ],
                        [
                          0.6,
                          "#e6f5d0"
                        ],
                        [
                          0.7,
                          "#b8e186"
                        ],
                        [
                          0.8,
                          "#7fbc41"
                        ],
                        [
                          0.9,
                          "#4d9221"
                        ],
                        [
                          1,
                          "#276419"
                        ]
                      ],
                      "sequential": [
                        [
                          0,
                          "#0d0887"
                        ],
                        [
                          0.1111111111111111,
                          "#46039f"
                        ],
                        [
                          0.2222222222222222,
                          "#7201a8"
                        ],
                        [
                          0.3333333333333333,
                          "#9c179e"
                        ],
                        [
                          0.4444444444444444,
                          "#bd3786"
                        ],
                        [
                          0.5555555555555556,
                          "#d8576b"
                        ],
                        [
                          0.6666666666666666,
                          "#ed7953"
                        ],
                        [
                          0.7777777777777778,
                          "#fb9f3a"
                        ],
                        [
                          0.8888888888888888,
                          "#fdca26"
                        ],
                        [
                          1,
                          "#f0f921"
                        ]
                      ],
                      "sequentialminus": [
                        [
                          0,
                          "#0d0887"
                        ],
                        [
                          0.1111111111111111,
                          "#46039f"
                        ],
                        [
                          0.2222222222222222,
                          "#7201a8"
                        ],
                        [
                          0.3333333333333333,
                          "#9c179e"
                        ],
                        [
                          0.4444444444444444,
                          "#bd3786"
                        ],
                        [
                          0.5555555555555556,
                          "#d8576b"
                        ],
                        [
                          0.6666666666666666,
                          "#ed7953"
                        ],
                        [
                          0.7777777777777778,
                          "#fb9f3a"
                        ],
                        [
                          0.8888888888888888,
                          "#fdca26"
                        ],
                        [
                          1,
                          "#f0f921"
                        ]
                      ]
                    },
                    "paper_bgcolor": "white",
                    "plot_bgcolor": "#E5ECF6",
                    "title": {
                      "x": 0.05
                    },
                    "scene": {
                      "zaxis": {
                        "backgroundcolor": "#E5ECF6",
                        "ticks": "",
                        "gridwidth": 2,
                        "showbackground": true,
                        "zerolinecolor": "white",
                        "gridcolor": "white",
                        "linecolor": "white"
                      },
                      "xaxis": {
                        "backgroundcolor": "#E5ECF6",
                        "ticks": "",
                        "gridwidth": 2,
                        "showbackground": true,
                        "zerolinecolor": "white",
                        "gridcolor": "white",
                        "linecolor": "white"
                      },
                      "yaxis": {
                        "backgroundcolor": "#E5ECF6",
                        "ticks": "",
                        "gridwidth": 2,
                        "showbackground": true,
                        "zerolinecolor": "white",
                        "gridcolor": "white",
                        "linecolor": "white"
                      }
                    },
                    "yaxis": {
                      "automargin": true,
                      "title": {
                        "standoff": 15
                      },
                      "zerolinewidth": 2,
                      "ticks": "",
                      "zerolinecolor": "white",
                      "gridcolor": "white",
                      "linecolor": "white"
                    },
                    "annotationdefaults": {
                      "arrowwidth": 1,
                      "arrowhead": 0,
                      "arrowcolor": "#2a3f5f"
                    },
                    "hoverlabel": {
                      "align": "left"
                    },
                    "ternary": {
                      "bgcolor": "#E5ECF6",
                      "baxis": {
                        "ticks": "",
                        "gridcolor": "white",
                        "linecolor": "white"
                      },
                      "caxis": {
                        "ticks": "",
                        "gridcolor": "white",
                        "linecolor": "white"
                      },
                      "aaxis": {
                        "ticks": "",
                        "gridcolor": "white",
                        "linecolor": "white"
                      }
                    },
                    "mapbox": {
                      "style": "light"
                    },
                    "hovermode": "closest",
                    "font": {
                      "color": "#2a3f5f"
                    },
                    "geo": {
                      "showland": true,
                      "landcolor": "#E5ECF6",
                      "showlakes": true,
                      "bgcolor": "white",
                      "subunitcolor": "white",
                      "lakecolor": "white"
                    },
                    "coloraxis": {
                      "colorbar": {
                        "outlinewidth": 0,
                        "ticks": ""
                      }
                    }
                  },
                  "data": {
                    "mesh3d": [
                      {
                        "colorbar": {
                          "outlinewidth": 0,
                          "ticks": ""
                        },
                        "type": "mesh3d"
                      }
                    ],
                    "scattercarpet": [
                      {
                        "marker": {
                          "colorbar": {
                            "outlinewidth": 0,
                            "ticks": ""
                          }
                        },
                        "type": "scattercarpet"
                      }
                    ],
                    "pie": [
                      {
                        "automargin": true,
                        "type": "pie"
                      }
                    ],
                    "surface": [
                      {
                        "colorbar": {
                          "outlinewidth": 0,
                          "ticks": ""
                        },
                        "type": "surface",
                        "colorscale": [
                          [
                            0,
                            "#0d0887"
                          ],
                          [
                            0.1111111111111111,
                            "#46039f"
                          ],
                          [
                            0.2222222222222222,
                            "#7201a8"
                          ],
                          [
                            0.3333333333333333,
                            "#9c179e"
                          ],
                          [
                            0.4444444444444444,
                            "#bd3786"
                          ],
                          [
                            0.5555555555555556,
                            "#d8576b"
                          ],
                          [
                            0.6666666666666666,
                            "#ed7953"
                          ],
                          [
                            0.7777777777777778,
                            "#fb9f3a"
                          ],
                          [
                            0.8888888888888888,
                            "#fdca26"
                          ],
                          [
                            1,
                            "#f0f921"
                          ]
                        ]
                      }
                    ],
                    "table": [
                      {
                        "header": {
                          "line": {
                            "color": "white"
                          },
                          "fill": {
                            "color": "#C8D4E3"
                          }
                        },
                        "cells": {
                          "line": {
                            "color": "white"
                          },
                          "fill": {
                            "color": "#EBF0F8"
                          }
                        },
                        "type": "table"
                      }
                    ],
                    "scatterpolargl": [
                      {
                        "marker": {
                          "colorbar": {
                            "outlinewidth": 0,
                            "ticks": ""
                          }
                        },
                        "type": "scatterpolargl"
                      }
                    ],
                    "contour": [
                      {
                        "colorbar": {
                          "outlinewidth": 0,
                          "ticks": ""
                        },
                        "type": "contour",
                        "colorscale": [
                          [
                            0,
                            "#0d0887"
                          ],
                          [
                            0.1111111111111111,
                            "#46039f"
                          ],
                          [
                            0.2222222222222222,
                            "#7201a8"
                          ],
                          [
                            0.3333333333333333,
                            "#9c179e"
                          ],
                          [
                            0.4444444444444444,
                            "#bd3786"
                          ],
                          [
                            0.5555555555555556,
                            "#d8576b"
                          ],
                          [
                            0.6666666666666666,
                            "#ed7953"
                          ],
                          [
                            0.7777777777777778,
                            "#fb9f3a"
                          ],
                          [
                            0.8888888888888888,
                            "#fdca26"
                          ],
                          [
                            1,
                            "#f0f921"
                          ]
                        ]
                      }
                    ],
                    "carpet": [
                      {
                        "type": "carpet",
                        "baxis": {
                          "minorgridcolor": "white",
                          "gridcolor": "white",
                          "linecolor": "white",
                          "endlinecolor": "#2a3f5f",
                          "startlinecolor": "#2a3f5f"
                        },
                        "aaxis": {
                          "minorgridcolor": "white",
                          "gridcolor": "white",
                          "linecolor": "white",
                          "endlinecolor": "#2a3f5f",
                          "startlinecolor": "#2a3f5f"
                        }
                      }
                    ],
                    "contourcarpet": [
                      {
                        "colorbar": {
                          "outlinewidth": 0,
                          "ticks": ""
                        },
                        "type": "contourcarpet"
                      }
                    ],
                    "heatmap": [
                      {
                        "colorbar": {
                          "outlinewidth": 0,
                          "ticks": ""
                        },
                        "type": "heatmap",
                        "colorscale": [
                          [
                            0,
                            "#0d0887"
                          ],
                          [
                            0.1111111111111111,
                            "#46039f"
                          ],
                          [
                            0.2222222222222222,
                            "#7201a8"
                          ],
                          [
                            0.3333333333333333,
                            "#9c179e"
                          ],
                          [
                            0.4444444444444444,
                            "#bd3786"
                          ],
                          [
                            0.5555555555555556,
                            "#d8576b"
                          ],
                          [
                            0.6666666666666666,
                            "#ed7953"
                          ],
                          [
                            0.7777777777777778,
                            "#fb9f3a"
                          ],
                          [
                            0.8888888888888888,
                            "#fdca26"
                          ],
                          [
                            1,
                            "#f0f921"
                          ]
                        ]
                      }
                    ],
                    "scattermapbox": [
                      {
                        "marker": {
                          "colorbar": {
                            "outlinewidth": 0,
                            "ticks": ""
                          }
                        },
                        "type": "scattermapbox"
                      }
                    ],
                    "scatter3d": [
                      {
                        "marker": {
                          "colorbar": {
                            "outlinewidth": 0,
                            "ticks": ""
                          }
                        },
                        "line": {
                          "colorbar": {
                            "outlinewidth": 0,
                            "ticks": ""
                          }
                        },
                        "type": "scatter3d"
                      }
                    ],
                    "scattergl": [
                      {
                        "marker": {
                          "colorbar": {
                            "outlinewidth": 0,
                            "ticks": ""
                          }
                        },
                        "type": "scattergl"
                      }
                    ],
                    "scatterternary": [
                      {
                        "marker": {
                          "colorbar": {
                            "outlinewidth": 0,
                            "ticks": ""
                          }
                        },
                        "type": "scatterternary"
                      }
                    ],
                    "histogram": [
                      {
                        "marker": {
                          "colorbar": {
                            "outlinewidth": 0,
                            "ticks": ""
                          }
                        },
                        "type": "histogram"
                      }
                    ],
                    "heatmapgl": [
                      {
                        "colorbar": {
                          "outlinewidth": 0,
                          "ticks": ""
                        },
                        "type": "heatmapgl",
                        "colorscale": [
                          [
                            0,
                            "#0d0887"
                          ],
                          [
                            0.1111111111111111,
                            "#46039f"
                          ],
                          [
                            0.2222222222222222,
                            "#7201a8"
                          ],
                          [
                            0.3333333333333333,
                            "#9c179e"
                          ],
                          [
                            0.4444444444444444,
                            "#bd3786"
                          ],
                          [
                            0.5555555555555556,
                            "#d8576b"
                          ],
                          [
                            0.6666666666666666,
                            "#ed7953"
                          ],
                          [
                            0.7777777777777778,
                            "#fb9f3a"
                          ],
                          [
                            0.8888888888888888,
                            "#fdca26"
                          ],
                          [
                            1,
                            "#f0f921"
                          ]
                        ]
                      }
                    ],
                    "scatterpolar": [
                      {
                        "marker": {
                          "colorbar": {
                            "outlinewidth": 0,
                            "ticks": ""
                          }
                        },
                        "type": "scatterpolar"
                      }
                    ],
                    "histogram2d": [
                      {
                        "colorbar": {
                          "outlinewidth": 0,
                          "ticks": ""
                        },
                        "type": "histogram2d",
                        "colorscale": [
                          [
                            0,
                            "#0d0887"
                          ],
                          [
                            0.1111111111111111,
                            "#46039f"
                          ],
                          [
                            0.2222222222222222,
                            "#7201a8"
                          ],
                          [
                            0.3333333333333333,
                            "#9c179e"
                          ],
                          [
                            0.4444444444444444,
                            "#bd3786"
                          ],
                          [
                            0.5555555555555556,
                            "#d8576b"
                          ],
                          [
                            0.6666666666666666,
                            "#ed7953"
                          ],
                          [
                            0.7777777777777778,
                            "#fb9f3a"
                          ],
                          [
                            0.8888888888888888,
                            "#fdca26"
                          ],
                          [
                            1,
                            "#f0f921"
                          ]
                        ]
                      }
                    ],
                    "scattergeo": [
                      {
                        "marker": {
                          "colorbar": {
                            "outlinewidth": 0,
                            "ticks": ""
                          }
                        },
                        "type": "scattergeo"
                      }
                    ],
                    "bar": [
                      {
                        "marker": {
                          "line": {
                            "color": "#E5ECF6",
                            "width": 0.5
                          }
                        },
                        "type": "bar",
                        "error_x": {
                          "color": "#2a3f5f"
                        },
                        "error_y": {
                          "color": "#2a3f5f"
                        }
                      }
                    ],
                    "choropleth": [
                      {
                        "colorbar": {
                          "outlinewidth": 0,
                          "ticks": ""
                        },
                        "type": "choropleth"
                      }
                    ],
                    "parcoords": [
                      {
                        "line": {
                          "colorbar": {
                            "outlinewidth": 0,
                            "ticks": ""
                          }
                        },
                        "type": "parcoords"
                      }
                    ],
                    "barpolar": [
                      {
                        "marker": {
                          "line": {
                            "color": "#E5ECF6",
                            "width": 0.5
                          }
                        },
                        "type": "barpolar"
                      }
                    ],
                    "histogram2dcontour": [
                      {
                        "colorbar": {
                          "outlinewidth": 0,
                          "ticks": ""
                        },
                        "type": "histogram2dcontour",
                        "colorscale": [
                          [
                            0,
                            "#0d0887"
                          ],
                          [
                            0.1111111111111111,
                            "#46039f"
                          ],
                          [
                            0.2222222222222222,
                            "#7201a8"
                          ],
                          [
                            0.3333333333333333,
                            "#9c179e"
                          ],
                          [
                            0.4444444444444444,
                            "#bd3786"
                          ],
                          [
                            0.5555555555555556,
                            "#d8576b"
                          ],
                          [
                            0.6666666666666666,
                            "#ed7953"
                          ],
                          [
                            0.7777777777777778,
                            "#fb9f3a"
                          ],
                          [
                            0.8888888888888888,
                            "#fdca26"
                          ],
                          [
                            1,
                            "#f0f921"
                          ]
                        ]
                      }
                    ],
                    "scatter": [
                      {
                        "marker": {
                          "colorbar": {
                            "outlinewidth": 0,
                            "ticks": ""
                          }
                        },
                        "type": "scatter"
                      }
                    ]
                  }
                },
                "title": {
                  "text": "Pearson Correlation of numerical features"
                },
                "yaxis": {
                  "ticks": ""
                },
                "height": 700,
                "width": 900,
                "xaxis": {
                  "nticks": 36,
                  "ticks": ""
                }
              }
            }
          },
          "metadata": {
            "tags": []
          }
        }
      ]
    },
    {
      "cell_type": "code",
      "metadata": {
        "id": "fpbtSi2OFL6-",
        "colab_type": "code",
        "colab": {}
      },
      "source": [
        "attrition_tar= attrition.drop(['Attrition'], axis=1)\n",
        "y=attrition['Attrition']"
      ],
      "execution_count": 0,
      "outputs": []
    },
    {
      "cell_type": "code",
      "metadata": {
        "id": "E-3bi1nhFPil",
        "colab_type": "code",
        "colab": {}
      },
      "source": [
        "from sklearn.model_selection import train_test_split\n",
        "#from sklearn.cross_validation import train_test_split\n",
        "#from sklearn.cross_validation import StratifiedShuffleSplit\n",
        "\n",
        "# Split data into train and test sets as well as for validation and testing\n",
        "x_train, x_test, y_train, y_test = train_test_split(attrition_tar, \n",
        "                                                         y, \n",
        "                                                         train_size= 0.80,\n",
        "                                                         random_state=0);"
      ],
      "execution_count": 0,
      "outputs": []
    },
    {
      "cell_type": "code",
      "metadata": {
        "id": "mioiHY_TFSrH",
        "colab_type": "code",
        "colab": {
          "base_uri": "https://localhost:8080/",
          "height": 90
        },
        "outputId": "cdc3acb9-e49e-4901-f3e4-36b60454e31d"
      },
      "source": [
        "print(x_train.shape)\n",
        "print(y_train.shape)\n",
        "print(x_test.shape)\n",
        "print(y_test.shape)"
      ],
      "execution_count": 17,
      "outputs": [
        {
          "output_type": "stream",
          "text": [
            "(1176, 34)\n",
            "(1176,)\n",
            "(294, 34)\n",
            "(294,)\n"
          ],
          "name": "stdout"
        }
      ]
    },
    {
      "cell_type": "code",
      "metadata": {
        "id": "uHNu5rP6FV4P",
        "colab_type": "code",
        "colab": {
          "base_uri": "https://localhost:8080/",
          "height": 35
        },
        "outputId": "deb5569b-4382-4a45-dd54-64c4936369f7"
      },
      "source": [
        "type(y_train)"
      ],
      "execution_count": 18,
      "outputs": [
        {
          "output_type": "execute_result",
          "data": {
            "text/plain": [
              "pandas.core.series.Series"
            ]
          },
          "metadata": {
            "tags": []
          },
          "execution_count": 18
        }
      ]
    },
    {
      "cell_type": "code",
      "metadata": {
        "id": "RlyjE09IFZbw",
        "colab_type": "code",
        "colab": {}
      },
      "source": [
        "def encoding(data):\n",
        "    # Empty list to store columns with categorical data\n",
        "    categorical = []\n",
        "    for col, value in data.iteritems():\n",
        "        if value.dtype == 'object':\n",
        "            categorical.append(col)\n",
        "\n",
        "    # Store the numerical columns in a list numerical\n",
        "    numerical = data.columns.difference(categorical)\n",
        "    attrition_cat = data[categorical]\n",
        "    attrition_cat = pd.get_dummies(attrition_cat)\n",
        "    # Store the numerical features to a dataframe attrition_num\n",
        "    attrition_num = data[numerical]\n",
        "    # Concat the two dataframes together columnwise\n",
        "    attrition_final = pd.concat([attrition_num, attrition_cat], axis=1)\n",
        "    print(attrition_final.columns)\n",
        "    return attrition_final"
      ],
      "execution_count": 0,
      "outputs": []
    },
    {
      "cell_type": "code",
      "metadata": {
        "id": "m1hu2pn4Fc1k",
        "colab_type": "code",
        "colab": {
          "base_uri": "https://localhost:8080/",
          "height": 435
        },
        "outputId": "22345327-c3a6-4a2b-9e46-ca0a4c34d548"
      },
      "source": [
        "x_train_encode=encoding(x_train)\n",
        "x_train_encode.shape"
      ],
      "execution_count": 20,
      "outputs": [
        {
          "output_type": "stream",
          "text": [
            "Index(['Age', 'DailyRate', 'DistanceFromHome', 'Education', 'EmployeeCount',\n",
            "       'EmployeeNumber', 'EnvironmentSatisfaction', 'HourlyRate',\n",
            "       'JobInvolvement', 'JobLevel', 'JobSatisfaction', 'MonthlyIncome',\n",
            "       'MonthlyRate', 'NumCompaniesWorked', 'PercentSalaryHike',\n",
            "       'PerformanceRating', 'RelationshipSatisfaction', 'StandardHours',\n",
            "       'StockOptionLevel', 'TotalWorkingYears', 'TrainingTimesLastYear',\n",
            "       'WorkLifeBalance', 'YearsAtCompany', 'YearsInCurrentRole',\n",
            "       'YearsSinceLastPromotion', 'YearsWithCurrManager',\n",
            "       'BusinessTravel_Non-Travel', 'BusinessTravel_Travel_Frequently',\n",
            "       'BusinessTravel_Travel_Rarely', 'Department_Human Resources',\n",
            "       'Department_Research & Development', 'Department_Sales',\n",
            "       'EducationField_Human Resources', 'EducationField_Life Sciences',\n",
            "       'EducationField_Marketing', 'EducationField_Medical',\n",
            "       'EducationField_Other', 'EducationField_Technical Degree',\n",
            "       'Gender_Female', 'Gender_Male', 'JobRole_Healthcare Representative',\n",
            "       'JobRole_Human Resources', 'JobRole_Laboratory Technician',\n",
            "       'JobRole_Manager', 'JobRole_Manufacturing Director',\n",
            "       'JobRole_Research Director', 'JobRole_Research Scientist',\n",
            "       'JobRole_Sales Executive', 'JobRole_Sales Representative',\n",
            "       'MaritalStatus_Divorced', 'MaritalStatus_Married',\n",
            "       'MaritalStatus_Single', 'Over18_Y', 'OverTime_No', 'OverTime_Yes'],\n",
            "      dtype='object')\n"
          ],
          "name": "stdout"
        },
        {
          "output_type": "execute_result",
          "data": {
            "text/plain": [
              "(1176, 55)"
            ]
          },
          "metadata": {
            "tags": []
          },
          "execution_count": 20
        }
      ]
    },
    {
      "cell_type": "code",
      "metadata": {
        "id": "f04atpA7FhnI",
        "colab_type": "code",
        "colab": {
          "base_uri": "https://localhost:8080/",
          "height": 417
        },
        "outputId": "28902479-b9e2-4fff-d108-cc777f51393f"
      },
      "source": [
        "x_test_encode=encoding(x_test)"
      ],
      "execution_count": 21,
      "outputs": [
        {
          "output_type": "stream",
          "text": [
            "Index(['Age', 'DailyRate', 'DistanceFromHome', 'Education', 'EmployeeCount',\n",
            "       'EmployeeNumber', 'EnvironmentSatisfaction', 'HourlyRate',\n",
            "       'JobInvolvement', 'JobLevel', 'JobSatisfaction', 'MonthlyIncome',\n",
            "       'MonthlyRate', 'NumCompaniesWorked', 'PercentSalaryHike',\n",
            "       'PerformanceRating', 'RelationshipSatisfaction', 'StandardHours',\n",
            "       'StockOptionLevel', 'TotalWorkingYears', 'TrainingTimesLastYear',\n",
            "       'WorkLifeBalance', 'YearsAtCompany', 'YearsInCurrentRole',\n",
            "       'YearsSinceLastPromotion', 'YearsWithCurrManager',\n",
            "       'BusinessTravel_Non-Travel', 'BusinessTravel_Travel_Frequently',\n",
            "       'BusinessTravel_Travel_Rarely', 'Department_Human Resources',\n",
            "       'Department_Research & Development', 'Department_Sales',\n",
            "       'EducationField_Human Resources', 'EducationField_Life Sciences',\n",
            "       'EducationField_Marketing', 'EducationField_Medical',\n",
            "       'EducationField_Other', 'EducationField_Technical Degree',\n",
            "       'Gender_Female', 'Gender_Male', 'JobRole_Healthcare Representative',\n",
            "       'JobRole_Human Resources', 'JobRole_Laboratory Technician',\n",
            "       'JobRole_Manager', 'JobRole_Manufacturing Director',\n",
            "       'JobRole_Research Director', 'JobRole_Research Scientist',\n",
            "       'JobRole_Sales Executive', 'JobRole_Sales Representative',\n",
            "       'MaritalStatus_Divorced', 'MaritalStatus_Married',\n",
            "       'MaritalStatus_Single', 'Over18_Y', 'OverTime_No', 'OverTime_Yes'],\n",
            "      dtype='object')\n"
          ],
          "name": "stdout"
        }
      ]
    },
    {
      "cell_type": "code",
      "metadata": {
        "id": "CU-Q4YvOFlF1",
        "colab_type": "code",
        "colab": {}
      },
      "source": [
        "def target_encode(data):\n",
        "    # Define a dictionary for the target mapping\n",
        "    target_map = {'Yes':1, 'No':0}\n",
        "# Use the pandas apply method to numerically encode our attrition target variable\n",
        "    target = data.apply(lambda x: target_map[x])\n",
        "    return target"
      ],
      "execution_count": 0,
      "outputs": []
    },
    {
      "cell_type": "code",
      "metadata": {
        "id": "c8ZzO5DtFoha",
        "colab_type": "code",
        "colab": {}
      },
      "source": [
        "y_train_encode=target_encode(y_train)\n",
        "y_test_encode=target_encode(y_test)"
      ],
      "execution_count": 0,
      "outputs": []
    },
    {
      "cell_type": "code",
      "metadata": {
        "id": "70cMn9GEFrjU",
        "colab_type": "code",
        "colab": {}
      },
      "source": [
        "scalar=StandardScaler()\n",
        "x_train_scaled=scalar.fit(x_train_encode)\n",
        "x_test_scaled=scalar.transform(x_train_encode)"
      ],
      "execution_count": 0,
      "outputs": []
    },
    {
      "cell_type": "code",
      "metadata": {
        "id": "tJFKdn8TFuZi",
        "colab_type": "code",
        "colab": {
          "base_uri": "https://localhost:8080/",
          "height": 35
        },
        "outputId": "17280597-8a97-4b60-d38d-f08869f0e815"
      },
      "source": [
        "clf=SVC()\n",
        "clf.fit(x_train_encode,y_train_encode)\n",
        "y_pred=clf.predict(x_test_encode)\n",
        "accuracy_score(y_test_encode,y_pred)"
      ],
      "execution_count": 40,
      "outputs": [
        {
          "output_type": "execute_result",
          "data": {
            "text/plain": [
              "0.8333333333333334"
            ]
          },
          "metadata": {
            "tags": []
          },
          "execution_count": 40
        }
      ]
    },
    {
      "cell_type": "code",
      "metadata": {
        "id": "3_Jq7F2RF1On",
        "colab_type": "code",
        "colab": {}
      },
      "source": [
        "hparams = {\"C\": [0.1, 1, 10, 100],\n",
        "                  \"kernel\": [\"linear\", \"rbf\", \"poly\"], \n",
        "                   \"gamma\": [0.001, 0.0001]}"
      ],
      "execution_count": 0,
      "outputs": []
    },
    {
      "cell_type": "code",
      "metadata": {
        "id": "45Jl4y40QmY8",
        "colab_type": "code",
        "colab": {}
      },
      "source": [
        "grid_search_cv=GridSearchCV(SVC(),param_grid=hparams,scoring='accuracy',n_jobs=-1)\n",
        "grid_search_cv.fit(x_train_encode,y_train_encode)"
      ],
      "execution_count": 0,
      "outputs": []
    },
    {
      "cell_type": "code",
      "metadata": {
        "id": "usu6eburRWBj",
        "colab_type": "code",
        "colab": {}
      },
      "source": [
        "print(grid_search_cv.test_score_)\n",
        "grid_search_cv.best_params_"
      ],
      "execution_count": 0,
      "outputs": []
    },
    {
      "cell_type": "code",
      "metadata": {
        "id": "bYMnv_ZMF_3y",
        "colab_type": "code",
        "colab": {}
      },
      "source": [
        "rdm_search_cv=RandomizedSearchCV(SVC(),param_distributions=hparams,scoring='accuracy',n_jobs=-1)\n",
        "rdm_search_cv.fit(x_train_encode,y_train_encode)"
      ],
      "execution_count": 0,
      "outputs": []
    },
    {
      "cell_type": "code",
      "metadata": {
        "id": "-x9PR2E1GCt0",
        "colab_type": "code",
        "colab": {}
      },
      "source": [
        "print(rdm_search_cv.test_score_)\n",
        "rdm_search_cv.best_params_"
      ],
      "execution_count": 0,
      "outputs": []
    },
    {
      "cell_type": "code",
      "metadata": {
        "id": "WxhBgqtjGGIM",
        "colab_type": "code",
        "colab": {}
      },
      "source": [
        "oversampler=SMOTE(random_state=0)\n",
        "smote_train, smote_target = oversampler.fit_sample(x_train_encode,y_train_encode)"
      ],
      "execution_count": 0,
      "outputs": []
    },
    {
      "cell_type": "code",
      "metadata": {
        "id": "ZDKLk1IbGJjX",
        "colab_type": "code",
        "colab": {
          "base_uri": "https://localhost:8080/",
          "height": 54
        },
        "outputId": "566e8590-ab90-4a6d-9f76-3cdf5d1c6703"
      },
      "source": [
        "seed = 0   # We set our random seed to zero for reproducibility\n",
        "# Random Forest parameters\n",
        "rf_params = {\n",
        "    'n_jobs': -1,\n",
        "    'n_estimators': 1000,\n",
        "#     'warm_start': True, \n",
        "    'max_features': 0.3,\n",
        "    'max_depth': 4,\n",
        "    'min_samples_leaf': 2,\n",
        "    'max_features' : 'sqrt',\n",
        "    'random_state' : seed,\n",
        "    'verbose': 0\n",
        "}\n",
        "rf = RandomForestClassifier(**rf_params)\n",
        "rf.fit(smote_train, smote_target)\n",
        "print(\"Fitting of Random Forest finished\")\n",
        "\n",
        "rf_predictions = rf.predict(x_test_encode)\n",
        "print(\"Predictions finished\")"
      ],
      "execution_count": 46,
      "outputs": [
        {
          "output_type": "stream",
          "text": [
            "Fitting of Random Forest finished\n",
            "Predictions finished\n"
          ],
          "name": "stdout"
        }
      ]
    },
    {
      "cell_type": "code",
      "metadata": {
        "id": "NyLAnpF2GOYI",
        "colab_type": "code",
        "colab": {
          "base_uri": "https://localhost:8080/",
          "height": 217
        },
        "outputId": "c432374a-da8a-4d1a-8acc-b2d973d3de48"
      },
      "source": [
        "print(\"Accuracy score: {}\".format(accuracy_score(y_test_encode, rf_predictions)))\n",
        "print(\"=\"*80)\n",
        "print(classification_report(y_test_encode, rf_predictions))"
      ],
      "execution_count": 47,
      "outputs": [
        {
          "output_type": "stream",
          "text": [
            "Accuracy score: 0.8537414965986394\n",
            "================================================================================\n",
            "              precision    recall  f1-score   support\n",
            "\n",
            "           0       0.90      0.93      0.91       245\n",
            "           1       0.57      0.49      0.53        49\n",
            "\n",
            "    accuracy                           0.85       294\n",
            "   macro avg       0.74      0.71      0.72       294\n",
            "weighted avg       0.85      0.85      0.85       294\n",
            "\n"
          ],
          "name": "stdout"
        }
      ]
    },
    {
      "cell_type": "code",
      "metadata": {
        "id": "eutX7tKGGRxl",
        "colab_type": "code",
        "colab": {
          "base_uri": "https://localhost:8080/",
          "height": 893
        },
        "outputId": "5331ddec-f259-4d0d-9dd6-2160d16fda27"
      },
      "source": [
        "features = x_train_encode.columns.values\n",
        "importances = rf.feature_importances_\n",
        "indices = np.argsort(importances)\n",
        "\n",
        "plt.figure(figsize=(15,15))\n",
        "plt.title('Feature Importances')\n",
        "plt.barh(range(len(indices)), importances[indices], color='b', align='center')\n",
        "plt.yticks(range(len(indices)), [features[i] for i in indices])\n",
        "plt.xlabel('Relative Importance')\n",
        "plt.show()"
      ],
      "execution_count": 48,
      "outputs": [
        {
          "output_type": "display_data",
          "data": {
            "image/png": "[encoded data removed]",
            "text/plain": [
              "<Figure size 1080x1080 with 1 Axes>"
            ]
          },
          "metadata": {
            "tags": [],
            "needs_background": "light"
          }
        }
      ]
    },
    {
      "cell_type": "code",
      "metadata": {
        "id": "v1ykB9yeGWic",
        "colab_type": "code",
        "colab": {
          "base_uri": "https://localhost:8080/",
          "height": 254
        },
        "outputId": "e9b40c02-20be-4598-d21a-fa3d08298c2d"
      },
      "source": [
        "from sklearn import tree\n",
        "dt = tree.DecisionTreeClassifier()\n",
        "dt.fit(smote_train, smote_target)\n",
        "print(\"Fitting of Random Forest finished\")\n",
        "\n",
        "dt_predictions = dt.predict(x_test_encode)\n",
        "print(\"Predictions finished\")\n",
        "\n",
        "print(\"Accuracy score: {}\".format(accuracy_score(y_test_encode, dt_predictions)))\n",
        "print(\"=\"*80)\n",
        "print(classification_report(y_test_encode, dt_predictions))"
      ],
      "execution_count": 49,
      "outputs": [
        {
          "output_type": "stream",
          "text": [
            "Fitting of Random Forest finished\n",
            "Predictions finished\n",
            "Accuracy score: 0.7414965986394558\n",
            "================================================================================\n",
            "              precision    recall  f1-score   support\n",
            "\n",
            "           0       0.85      0.84      0.84       245\n",
            "           1       0.25      0.27      0.25        49\n",
            "\n",
            "    accuracy                           0.74       294\n",
            "   macro avg       0.55      0.55      0.55       294\n",
            "weighted avg       0.75      0.74      0.75       294\n",
            "\n"
          ],
          "name": "stdout"
        }
      ]
    },
    {
      "cell_type": "code",
      "metadata": {
        "id": "GiRMejBlGaha",
        "colab_type": "code",
        "colab": {
          "base_uri": "https://localhost:8080/",
          "height": 893
        },
        "outputId": "53ecfef8-b655-41ac-bcca-c976beebc810"
      },
      "source": [
        "features = x_train_encode.columns.values\n",
        "importances = dt.feature_importances_\n",
        "indices = np.argsort(importances)\n",
        "\n",
        "plt.figure(figsize=(15,15))\n",
        "plt.title('Feature Importances')\n",
        "plt.barh(range(len(indices)), importances[indices], color='b', align='center')\n",
        "plt.yticks(range(len(indices)), [features[i] for i in indices])\n",
        "plt.xlabel('Relative Importance')\n",
        "plt.show()"
      ],
      "execution_count": 50,
      "outputs": [
        {
          "output_type": "display_data",
          "data": {
            "image/png": "[encoded data removed]",
            "text/plain": [
              "<Figure size 1080x1080 with 1 Axes>"
            ]
          },
          "metadata": {
            "tags": [],
            "needs_background": "light"
          }
        }
      ]
    },
    {
      "cell_type": "code",
      "metadata": {
        "id": "qJp23rGxGfU8",
        "colab_type": "code",
        "colab": {
          "base_uri": "https://localhost:8080/",
          "height": 235
        },
        "outputId": "a3fcbece-0dfa-469e-9080-ba77623a2641"
      },
      "source": [
        "gb_params ={\n",
        "    'n_estimators': 1500,\n",
        "    'max_features': 0.9,\n",
        "    'learning_rate' : 0.25,\n",
        "    'max_depth': 4,\n",
        "    'min_samples_leaf': 2,\n",
        "    'subsample': 1,\n",
        "    'max_features' : 'sqrt',\n",
        "    'random_state' : seed,\n",
        "    'verbose': 0\n",
        "}\n",
        "\n",
        "gb = GradientBoostingClassifier(**gb_params)\n",
        "# Fit the model to our SMOTEd train and target\n",
        "gb.fit(smote_train, smote_target)\n",
        "# Get our predictions\n",
        "gb_predictions = gb.predict(x_test_encode)\n",
        "print(\"Predictions have finished\")\n",
        "\n",
        "print(accuracy_score(y_test_encode, gb_predictions))\n",
        "print(\"=\"*80)\n",
        "print(classification_report(y_test_encode, gb_predictions))"
      ],
      "execution_count": 51,
      "outputs": [
        {
          "output_type": "stream",
          "text": [
            "Predictions have finished\n",
            "0.8605442176870748\n",
            "================================================================================\n",
            "              precision    recall  f1-score   support\n",
            "\n",
            "           0       0.88      0.96      0.92       245\n",
            "           1       0.64      0.37      0.47        49\n",
            "\n",
            "    accuracy                           0.86       294\n",
            "   macro avg       0.76      0.66      0.69       294\n",
            "weighted avg       0.84      0.86      0.84       294\n",
            "\n"
          ],
          "name": "stdout"
        }
      ]
    },
    {
      "cell_type": "code",
      "metadata": {
        "id": "THH-KDo8Gi5m",
        "colab_type": "code",
        "colab": {
          "base_uri": "https://localhost:8080/",
          "height": 893
        },
        "outputId": "56bf03c9-d12e-4f8f-e91b-e4220acbcb08"
      },
      "source": [
        "features = x_train_encode.columns.values\n",
        "importances = gb.feature_importances_\n",
        "indices = np.argsort(importances)\n",
        "\n",
        "plt.figure(figsize=(15,15))\n",
        "plt.title('Feature Importances')\n",
        "plt.barh(range(len(indices)), importances[indices], color='b', align='center')\n",
        "plt.yticks(range(len(indices)), [features[i] for i in indices])\n",
        "plt.xlabel('Relative Importance')\n",
        "plt.show()"
      ],
      "execution_count": 52,
      "outputs": [
        {
          "output_type": "display_data",
          "data": {
            "image/png": "[encoded data removed]",
            "text/plain": [
              "<Figure size 1080x1080 with 1 Axes>"
            ]
          },
          "metadata": {
            "tags": [],
            "needs_background": "light"
          }
        }
      ]
    }
  ]
}